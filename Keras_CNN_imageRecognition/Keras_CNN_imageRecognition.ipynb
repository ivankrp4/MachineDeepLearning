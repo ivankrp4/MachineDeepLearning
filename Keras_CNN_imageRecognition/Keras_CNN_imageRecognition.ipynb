{
 "cells": [
  {
   "cell_type": "markdown",
   "metadata": {},
   "source": [
    "#### Import the necessary libraries and modules"
   ]
  },
  {
   "cell_type": "code",
   "execution_count": 0,
   "metadata": {
    "colab": {},
    "colab_type": "code",
    "id": "kAZaDfzU4ajn"
   },
   "outputs": [],
   "source": [
    "import numpy as np\n",
    "import pandas as pd\n",
    "import matplotlib.pyplot as plt\n",
    "import seaborn as sns\n",
    "%matplotlib inline\n",
    "\n",
    "from keras.models import Sequential\n",
    "from keras.layers import Dense,Flatten,Activation,Conv2D,MaxPool2D,AvgPool2D\n",
    "from keras import backend as K"
   ]
  },
  {
   "cell_type": "markdown",
   "metadata": {},
   "source": [
    "#### Import, analyze, and transform the data"
   ]
  },
  {
   "cell_type": "code",
   "execution_count": 0,
   "metadata": {
    "colab": {},
    "colab_type": "code",
    "id": "KsVerjUBg7Wb"
   },
   "outputs": [],
   "source": [
    "from keras.datasets import cifar10\n",
    "\n",
    "cifar = cifar10.load_data()"
   ]
  },
  {
   "cell_type": "code",
   "execution_count": 0,
   "metadata": {
    "colab": {},
    "colab_type": "code",
    "id": "Pyns3nkXiCZ8"
   },
   "outputs": [],
   "source": [
    "(X_train,y_train),(X_test,y_test) = cifar"
   ]
  },
  {
   "cell_type": "code",
   "execution_count": 0,
   "metadata": {
    "colab": {
     "base_uri": "https://localhost:8080/",
     "height": 150
    },
    "colab_type": "code",
    "id": "2LgjIKJWjz2V",
    "outputId": "97fee445-d41e-4444-a90b-87f069d9dfe2"
   },
   "outputs": [
    {
     "data": {
      "text/plain": [
       "<matplotlib.image.AxesImage at 0x7f4fe004b940>"
      ]
     },
     "execution_count": 9,
     "metadata": {
      "tags": []
     },
     "output_type": "execute_result"
    },
    {
     "data": {
      "image/png": "[encoded data removed]",
      "text/plain": [
       "<Figure size 216x108 with 1 Axes>"
      ]
     },
     "metadata": {
      "tags": []
     },
     "output_type": "display_data"
    }
   ],
   "source": [
    "# Check how well you can distinguish the images, for instance image 12000.\n",
    "\n",
    "plt.figure(figsize=(3,1.5))\n",
    "\n",
    "plt.imshow(cifar[0][0][12000])"
   ]
  },
  {
   "cell_type": "code",
   "execution_count": 0,
   "metadata": {
    "colab": {},
    "colab_type": "code",
    "id": "U5Bb5H6h05ac"
   },
   "outputs": [],
   "source": [
    "labels = ['airplane', 'automobile', 'bird', 'cat', 'deer', 'dog', 'frog', 'horse', 'ship', 'truck']\n",
    "\n",
    "\n",
    "def l_name(n):\n",
    "  '''\n",
    "  define a function that will return the label of the n-th image, e.g. l_name(12000) should return \"frog\" '''\n",
    "\n",
    "  return labels[cifar[0][1][n][0]]"
   ]
  },
  {
   "cell_type": "code",
   "execution_count": 0,
   "metadata": {
    "colab": {},
    "colab_type": "code",
    "id": "8x-PB0Z55JfC"
   },
   "outputs": [],
   "source": [
    "l_name(y_train[12000][0])"
   ]
  },
  {
   "cell_type": "code",
   "execution_count": 0,
   "metadata": {
    "colab": {},
    "colab_type": "code",
    "id": "_PhfQHLaGaDg"
   },
   "outputs": [],
   "source": [
    "# X_train is a 4D tensor consisting of 50,000 images with size 32 by 32 pixels and with 3 color channels\n",
    "\n",
    "X_train.shape"
   ]
  },
  {
   "cell_type": "code",
   "execution_count": 0,
   "metadata": {
    "colab": {},
    "colab_type": "code",
    "id": "Hly8kP4xTFQh"
   },
   "outputs": [],
   "source": [
    "# before we feed the images to the concolutional neural net, we need to cast the pixels to the float format \n",
    "# and make sure the values of the pixels lie in the range [0;1]\n",
    "\n",
    "X_train = X_train.astype('float32')\n",
    "X_test = X_test.astype('float32')\n",
    "X_train /= X_train.max()\n",
    "X_test /= X_test.max()"
   ]
  },
  {
   "cell_type": "code",
   "execution_count": 0,
   "metadata": {
    "colab": {},
    "colab_type": "code",
    "id": "9_ZQyLOjVD0k"
   },
   "outputs": [],
   "source": [
    "from keras.utils.np_utils import to_categorical  \n",
    "from keras.optimizers import RMSprop\n"
   ]
  },
  {
   "cell_type": "code",
   "execution_count": 0,
   "metadata": {
    "colab": {},
    "colab_type": "code",
    "id": "NACWyxEEVisM"
   },
   "outputs": [],
   "source": [
    "# the method to_categorical() implements one hot-encoding to categorical values, \n",
    "# i.e. we convert verbal values to a vector of size 10 (since there are 10 labels)\n",
    "\n",
    "y_train_cat = to_categorical(y_train,10)\n",
    "y_test_cat = to_categorical(y_test,10)"
   ]
  },
  {
   "cell_type": "markdown",
   "metadata": {},
   "source": [
    "#### Build a CNN model"
   ]
  },
  {
   "cell_type": "code",
   "execution_count": 0,
   "metadata": {
    "colab": {},
    "colab_type": "code",
    "id": "gLWtbzeSV6Bw"
   },
   "outputs": [],
   "source": [
    "# convolutional neural network architecture\n",
    "\n",
    "K.clear_session()\n",
    "\n",
    "model = Sequential()\n",
    "\n",
    "# convolutional layer with 32 filters of size 3*3. The input shape is the dimensions of the image fed to the filter, in this case a 32*32 RGB image.\n",
    "model.add(Conv2D(filters = 32, kernel_size = (3,3),input_shape = (32,32,3),activation='relu'))\n",
    "# another layer with 32 3*3 convolution filters\n",
    "model.add(Conv2D(32,(3,3),activation='relu'))\n",
    "# perform pooling and reduce dimensions by 2\n",
    "model.add(MaxPool2D(pool_size =(2,2)))\n",
    "model.add(Conv2D(64,(3,3),activation='relu'))\n",
    "model.add(Conv2D(64,(3,3)))\n",
    "model.add(MaxPool2D(2,2))\n",
    "model.add(Activation('relu'))\n",
    "# convert the tensor into a 1D vector before feeding to a dense layer\n",
    "model.add(Flatten())\n",
    "model.add(Dense(256,activation = 'relu'))\n",
    "# because it's a multi-class problem, the activation function of the last layer should be softmax,\n",
    "# and since we have 10 classes there should be 10 units in that layer \n",
    "model.add(Dense(10,activation = 'softmax'))"
   ]
  },
  {
   "cell_type": "code",
   "execution_count": 0,
   "metadata": {
    "colab": {},
    "colab_type": "code",
    "id": "6dPntmEElPxq"
   },
   "outputs": [],
   "source": [
    "\n",
    "model.compile(metrics = ['accuracy'],loss = 'categorical_crossentropy',optimizer = 'rmsprop')"
   ]
  },
  {
   "cell_type": "code",
   "execution_count": 0,
   "metadata": {
    "colab": {
     "base_uri": "https://localhost:8080/",
     "height": 493
    },
    "colab_type": "code",
    "id": "8GJ939BwmHXH",
    "outputId": "49513924-20ef-4d0b-fa86-da07076907a2"
   },
   "outputs": [
    {
     "name": "stdout",
     "output_type": "stream",
     "text": [
      "Model: \"sequential_1\"\n",
      "_________________________________________________________________\n",
      "Layer (type)                 Output Shape              Param #   \n",
      "=================================================================\n",
      "conv2d_1 (Conv2D)            (None, 30, 30, 32)        896       \n",
      "_________________________________________________________________\n",
      "conv2d_2 (Conv2D)            (None, 28, 28, 32)        9248      \n",
      "_________________________________________________________________\n",
      "max_pooling2d_1 (MaxPooling2 (None, 14, 14, 32)        0         \n",
      "_________________________________________________________________\n",
      "conv2d_3 (Conv2D)            (None, 12, 12, 64)        18496     \n",
      "_________________________________________________________________\n",
      "conv2d_4 (Conv2D)            (None, 10, 10, 64)        36928     \n",
      "_________________________________________________________________\n",
      "max_pooling2d_2 (MaxPooling2 (None, 5, 5, 64)          0         \n",
      "_________________________________________________________________\n",
      "activation_1 (Activation)    (None, 5, 5, 64)          0         \n",
      "_________________________________________________________________\n",
      "flatten_1 (Flatten)          (None, 1600)              0         \n",
      "_________________________________________________________________\n",
      "dense_1 (Dense)              (None, 256)               409856    \n",
      "_________________________________________________________________\n",
      "dense_2 (Dense)              (None, 10)                2570      \n",
      "=================================================================\n",
      "Total params: 477,994\n",
      "Trainable params: 477,994\n",
      "Non-trainable params: 0\n",
      "_________________________________________________________________\n"
     ]
    }
   ],
   "source": [
    "# the model summary() method provides a nice and clear layout of the neural net architecture\n",
    "model.summary()"
   ]
  },
  {
   "cell_type": "code",
   "execution_count": 0,
   "metadata": {
    "colab": {
     "base_uri": "https://localhost:8080/",
     "height": 221
    },
    "colab_type": "code",
    "id": "mPvsy3homJDJ",
    "outputId": "2e88d2a8-7f1d-489b-bdae-b063aa684840"
   },
   "outputs": [
    {
     "name": "stdout",
     "output_type": "stream",
     "text": [
      "Train on 50000 samples, validate on 10000 samples\n",
      "Epoch 1/5\n",
      "50000/50000 [==============================] - 21s 427us/step - loss: 1.4410 - acc: 0.4850 - val_loss: 1.1293 - val_acc: 0.5999\n",
      "Epoch 2/5\n",
      "50000/50000 [==============================] - 21s 423us/step - loss: 1.0035 - acc: 0.6487 - val_loss: 1.0605 - val_acc: 0.6353\n",
      "Epoch 3/5\n",
      "50000/50000 [==============================] - 21s 418us/step - loss: 0.8235 - acc: 0.7153 - val_loss: 1.0639 - val_acc: 0.6479\n",
      "Epoch 4/5\n",
      "50000/50000 [==============================] - 21s 414us/step - loss: 0.7171 - acc: 0.7544 - val_loss: 0.9258 - val_acc: 0.7073\n",
      "Epoch 5/5\n",
      "50000/50000 [==============================] - 22s 433us/step - loss: 0.6580 - acc: 0.7758 - val_loss: 0.8872 - val_acc: 0.7154\n"
     ]
    },
    {
     "data": {
      "text/plain": [
       "<keras.callbacks.History at 0x7f4f7ee74470>"
      ]
     },
     "execution_count": 55,
     "metadata": {
      "tags": []
     },
     "output_type": "execute_result"
    }
   ],
   "source": [
    "model.fit(X_train,y_train_cat,batch_size = 32,epochs = 5,validation_data=(X_test,y_test_cat),shuffle=True)"
   ]
  },
  {
   "cell_type": "code",
   "execution_count": 0,
   "metadata": {
    "colab": {},
    "colab_type": "code",
    "id": "9bwzzdHmq_10"
   },
   "outputs": [],
   "source": [
    "def l_name_tr(n):\n",
    "  ''' return the label of the n-th image in the test dataset '''\n",
    "  return labels[y_test[n][0]]"
   ]
  },
  {
   "cell_type": "code",
   "execution_count": 0,
   "metadata": {
    "colab": {
     "base_uri": "https://localhost:8080/",
     "height": 34
    },
    "colab_type": "code",
    "id": "f87WizcrrsSr",
    "outputId": "9d0d07c0-0980-4037-e3ca-00ec9b043890"
   },
   "outputs": [
    {
     "data": {
      "text/plain": [
       "(10,)"
      ]
     },
     "execution_count": 23,
     "metadata": {
      "tags": []
     },
     "output_type": "execute_result"
    }
   ],
   "source": [
    "model.predict(X_test[3000])\n",
    "model.predict(X_test)[34].shape"
   ]
  },
  {
   "cell_type": "code",
   "execution_count": null,
   "metadata": {
    "colab": {},
    "colab_type": "code",
    "id": "1EoBBDYqsGyk"
   },
   "outputs": [],
   "source": [
    "X_test[1][0]\n"
   ]
  },
  {
   "cell_type": "markdown",
   "metadata": {},
   "source": [
    "#### Evaluate performance of the model"
   ]
  },
  {
   "cell_type": "code",
   "execution_count": 0,
   "metadata": {
    "colab": {
     "base_uri": "https://localhost:8080/",
     "height": 68
    },
    "colab_type": "code",
    "id": "pNsmUPEC3fdZ",
    "outputId": "64d9ec11-26fc-4696-d59e-c3dbb9fdd8a2"
   },
   "outputs": [
    {
     "data": {
      "text/plain": [
       "array([8.5589527e-05, 9.2927643e-05, 3.1321596e-02, 1.5246098e-04,\n",
       "       1.5822065e-04, 2.8912839e-06, 1.9840384e-03, 4.2249325e-05,\n",
       "       1.7503140e-06, 9.6615833e-01], dtype=float32)"
      ]
     },
     "execution_count": 122,
     "metadata": {
      "tags": []
     },
     "output_type": "execute_result"
    }
   ],
   "source": [
    "model.predict(X_test)[50]"
   ]
  },
  {
   "cell_type": "code",
   "execution_count": 0,
   "metadata": {
    "colab": {},
    "colab_type": "code",
    "id": "Ii97pmpo3LXC"
   },
   "outputs": [],
   "source": [
    "def distr(n):\n",
    "  ''' pass the number of the image and return label probability \n",
    "  distribution for that image on the left and the image itself\n",
    "  on the right. This way you can easily compare your human recognition with the model's prediction '''\n",
    "  x = labels\n",
    "  y = model.predict(X_test)[n]\n",
    "  plt.figure(figsize = (22,6))\n",
    "  plt.subplot(1,2,1)\n",
    "  plt.scatter(x,y,cmap='plasma')\n",
    "  plt.subplot(1,2,2)\n",
    "  plt.imshow(X_test[n])"
   ]
  },
  {
   "cell_type": "code",
   "execution_count": 0,
   "metadata": {
    "colab": {
     "base_uri": "https://localhost:8080/",
     "height": 378
    },
    "colab_type": "code",
    "id": "V-znvimBikyg",
    "outputId": "5c0635f8-550d-477b-9ac3-a3a2aae6bd70"
   },
   "outputs": [
    {
     "data": {
      "image/png": "[encoded data removed]",
      "text/plain": [
       "<Figure size 1584x432 with 2 Axes>"
      ]
     },
     "metadata": {
      "tags": []
     },
     "output_type": "display_data"
    }
   ],
   "source": [
    "# compare image 7542 (on the right) to the model's prediction (on the left)\n",
    "distr(7542)"
   ]
  }
 ],
 "metadata": {
  "accelerator": "GPU",
  "colab": {
   "collapsed_sections": [],
   "name": "Pour_GitHub_Ivan_6_2_CNN.ipynb",
   "provenance": []
  },
  "kernelspec": {
   "display_name": "Python 3",
   "language": "python",
   "name": "python3"
  },
  "language_info": {
   "codemirror_mode": {
    "name": "ipython",
    "version": 3
   },
   "file_extension": ".py",
   "mimetype": "text/x-python",
   "name": "python",
   "nbconvert_exporter": "python",
   "pygments_lexer": "ipython3",
   "version": "3.7.3"
  }
 },
 "nbformat": 4,
 "nbformat_minor": 1
}
