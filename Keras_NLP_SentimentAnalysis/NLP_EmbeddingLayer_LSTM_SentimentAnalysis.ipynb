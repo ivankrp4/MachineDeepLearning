{
 "cells": [
  {
   "cell_type": "markdown",
   "metadata": {
    "colab_type": "text",
    "id": "zxgC_3nAU_Ii"
   },
   "source": [
    "### Movie Review Sentiment Analysis"
   ]
  },
  {
   "cell_type": "code",
   "execution_count": 0,
   "metadata": {
    "colab": {},
    "colab_type": "code",
    "id": "YzJ4YmwYItaE"
   },
   "outputs": [],
   "source": [
    "import pandas as pd\n",
    "import numpy as np\n",
    "import matplotlib.pyplot as plt\n",
    "%matplotlib inline"
   ]
  },
  {
   "cell_type": "code",
   "execution_count": 2,
   "metadata": {
    "colab": {
     "base_uri": "https://localhost:8080/",
     "height": 34
    },
    "colab_type": "code",
    "id": "Q2rzUvoyGzHf",
    "outputId": "9cebf94d-6e9f-4994-94be-8ad4e4f2f258"
   },
   "outputs": [
    {
     "name": "stderr",
     "output_type": "stream",
     "text": [
      "Using TensorFlow backend.\n"
     ]
    }
   ],
   "source": [
    "from keras.models import Sequential\n",
    "from keras.layers import Dense,Embedding, LSTM\n",
    "from keras import backend as K"
   ]
  },
  {
   "cell_type": "code",
   "execution_count": 0,
   "metadata": {
    "colab": {},
    "colab_type": "code",
    "id": "usOHYr5WG33z"
   },
   "outputs": [],
   "source": [
    "# Import data set of movie reviews from IMDB \n",
    "from keras.datasets import imdb"
   ]
  },
  {
   "cell_type": "code",
   "execution_count": 4,
   "metadata": {
    "colab": {
     "base_uri": "https://localhost:8080/",
     "height": 51
    },
    "colab_type": "code",
    "id": "Uf29qYUhVI8-",
    "outputId": "3239cbbf-e97c-4095-e7db-ee3e67f0ca61"
   },
   "outputs": [
    {
     "name": "stdout",
     "output_type": "stream",
     "text": [
      "Downloading data from https://s3.amazonaws.com/text-datasets/imdb.npz\n",
      "17465344/17464789 [==============================] - 0s 0us/step\n"
     ]
    }
   ],
   "source": [
    "(X_train,y_train),(X_test,y_test) = imdb.load_data(num_words = 20000,\n",
    "                                                   skip_top = 0,\n",
    "                                                   maxlen = None,\n",
    "                                                   start_char=1,\n",
    "                                                   oov_char=2,\n",
    "                                                   index_from=3)"
   ]
  },
  {
   "cell_type": "markdown",
   "metadata": {
    "colab_type": "text",
    "id": "YU4sypnbJhVt"
   },
   "source": [
    "#### Examine the data"
   ]
  },
  {
   "cell_type": "code",
   "execution_count": 5,
   "metadata": {
    "colab": {
     "base_uri": "https://localhost:8080/",
     "height": 34
    },
    "colab_type": "code",
    "id": "EvPDnqXDHac3",
    "outputId": "7a83b66c-7033-4dcc-a65b-02b5bf5ff3cc"
   },
   "outputs": [
    {
     "data": {
      "text/plain": [
       "(25000,)"
      ]
     },
     "execution_count": 5,
     "metadata": {
      "tags": []
     },
     "output_type": "execute_result"
    }
   ],
   "source": [
    "X_test.shape"
   ]
  },
  {
   "cell_type": "code",
   "execution_count": 0,
   "metadata": {
    "colab": {
     "base_uri": "https://localhost:8080/",
     "height": 34
    },
    "colab_type": "code",
    "id": "-plj2g6UVWwx",
    "outputId": "1277ee31-ab00-4469-b6c5-a2cb741e6e9f"
   },
   "outputs": [
    {
     "data": {
      "text/plain": [
       "(25000,)"
      ]
     },
     "execution_count": 9,
     "metadata": {
      "tags": []
     },
     "output_type": "execute_result"
    }
   ],
   "source": [
    "# the label column takes on a value of either 0 (negative review) or 1 (positive review)\n",
    "y_test.shape"
   ]
  },
  {
   "cell_type": "code",
   "execution_count": 0,
   "metadata": {
    "colab": {
     "base_uri": "https://localhost:8080/",
     "height": 34
    },
    "colab_type": "code",
    "id": "m_kaOlQZVZop",
    "outputId": "18e7a45c-ffea-411a-dd6a-a9eadabad1d9"
   },
   "outputs": [
    {
     "data": {
      "text/plain": [
       "(25000,)"
      ]
     },
     "execution_count": 10,
     "metadata": {
      "tags": []
     },
     "output_type": "execute_result"
    }
   ],
   "source": [
    "X_train.shape"
   ]
  },
  {
   "cell_type": "code",
   "execution_count": 6,
   "metadata": {
    "colab": {
     "base_uri": "https://localhost:8080/",
     "height": 34
    },
    "colab_type": "code",
    "id": "FgDEial4Vtui",
    "outputId": "682a862a-3393-43b1-d999-c402f414bc1a"
   },
   "outputs": [
    {
     "data": {
      "text/plain": [
       "147"
      ]
     },
     "execution_count": 6,
     "metadata": {
      "tags": []
     },
     "output_type": "execute_result"
    }
   ],
   "source": [
    "len(X_train[4])"
   ]
  },
  {
   "cell_type": "code",
   "execution_count": 7,
   "metadata": {
    "colab": {
     "base_uri": "https://localhost:8080/",
     "height": 51
    },
    "colab_type": "code",
    "id": "Ui6O97iTHqd6",
    "outputId": "001c669b-212c-474b-d7c1-6632e1490d31"
   },
   "outputs": [
    {
     "name": "stdout",
     "output_type": "stream",
     "text": [
      "Downloading data from https://s3.amazonaws.com/text-datasets/imdb_word_index.json\n",
      "1646592/1641221 [==============================] - 0s 0us/step\n"
     ]
    }
   ],
   "source": [
    "idx = imdb.get_word_index()"
   ]
  },
  {
   "cell_type": "code",
   "execution_count": 8,
   "metadata": {
    "colab": {
     "base_uri": "https://localhost:8080/",
     "height": 34
    },
    "colab_type": "code",
    "id": "rYjY3BzUHwdo",
    "outputId": "8d076f56-49d6-4da4-f7b7-a8038569970d"
   },
   "outputs": [
    {
     "data": {
      "text/plain": [
       "88584"
      ]
     },
     "execution_count": 8,
     "metadata": {
      "tags": []
     },
     "output_type": "execute_result"
    }
   ],
   "source": [
    "len(idx)"
   ]
  },
  {
   "cell_type": "code",
   "execution_count": 0,
   "metadata": {
    "colab": {},
    "colab_type": "code",
    "id": "usM2gxefHy4J"
   },
   "outputs": [],
   "source": [
    "# build a dictionary where the key will be the number and the value will be the word associated with that number.\n",
    "# shift the count by 3 since the first four indices are reserved for special cases \n",
    "\n",
    "rev_idx = {v+3:k for k,v in idx.items()}"
   ]
  },
  {
   "cell_type": "code",
   "execution_count": 0,
   "metadata": {
    "colab": {},
    "colab_type": "code",
    "id": "SaTfgHjaH1_o"
   },
   "outputs": [],
   "source": [
    "rev_idx[0] = 'padding_char'\n",
    "rev_idx[1] = 'start_char'\n",
    "rev_idx[2] = 'oov_char'\n",
    "rev_idx[3] = 'unk_char'"
   ]
  },
  {
   "cell_type": "code",
   "execution_count": 0,
   "metadata": {
    "colab": {},
    "colab_type": "code",
    "id": "WzMTq-nLH40u"
   },
   "outputs": [],
   "source": [
    "# see the actual reviews\n",
    "review = [x for x in X_train[10]]\n",
    "review4 = ' '.join([rev_idx[y] for y in X_train[10]])"
   ]
  },
  {
   "cell_type": "code",
   "execution_count": 12,
   "metadata": {
    "colab": {
     "base_uri": "https://localhost:8080/",
     "height": 54
    },
    "colab_type": "code",
    "id": "GUOVS3xiH_Md",
    "outputId": "84bec765-6b28-4bb0-8f5f-d73693e153c2"
   },
   "outputs": [
    {
     "data": {
      "text/plain": [
       "\"start_char french horror cinema has seen something of a revival over the last couple of years with great films such as inside and oov_char romance bursting on to the scene maléfique preceded the revival just slightly but stands head and shoulders over most modern horror titles and is surely one of the best french horror films ever made maléfique was obviously shot on a low budget but this is made up for in far more ways than one by the originality of the film and this in turn is complimented by the excellent writing and acting that ensure the film is a winner the plot focuses on two main ideas prison and black magic the central character is a man named carrère sent to prison for fraud he is put in a cell with three others the quietly insane oov_char body building transvestite marcus and his retarded boyfriend daisy after a short while in the cell together they stumble upon a hiding place in the wall that contains an old journal after translating part of it they soon realise its magical powers and realise they may be able to use it to break through the prison walls br br black magic is a very interesting topic and i'm actually quite surprised that there aren't more films based on it as there's so much scope for things to do with it it's fair to say that maléfique makes the best of it's assets as despite it's oov_char the film never actually feels restrained and manages to flow well throughout director eric valette provides a great atmosphere for the film the fact that most of it takes place inside the central prison cell ensures that the film feels very claustrophobic and this immensely benefits the central idea of the prisoners wanting to use magic to break out of the cell it's very easy to get behind them it's often said that the unknown is the thing that really oov_char people and this film proves that as the director ensures that we can never really be sure of exactly what is round the corner and this helps to ensure that maléfique actually does manage to be quite frightening the film is memorable for a lot of reasons outside the central plot the characters are all very interesting in their own way and the fact that the book itself almost takes on its own character is very well done anyone worried that the film won't deliver by the end won't be disappointed either as the ending both makes sense and manages to be quite horrifying overall maléfique is a truly great horror film and one of the best of the decade highly recommended viewing\""
      ]
     },
     "execution_count": 12,
     "metadata": {
      "tags": []
     },
     "output_type": "execute_result"
    }
   ],
   "source": [
    "review4"
   ]
  },
  {
   "cell_type": "code",
   "execution_count": 0,
   "metadata": {
    "colab": {},
    "colab_type": "code",
    "id": "ySWeUr2eIAHN"
   },
   "outputs": [],
   "source": [
    "lengths = [len(x) for x in X_train]"
   ]
  },
  {
   "cell_type": "code",
   "execution_count": 0,
   "metadata": {
    "colab": {
     "base_uri": "https://localhost:8080/",
     "height": 265
    },
    "colab_type": "code",
    "id": "JeTD1lwf2Ko0",
    "outputId": "35f8198c-c763-4b2e-e1c0-3afecd7d7530"
   },
   "outputs": [
    {
     "data": {
      "image/png": "[encoded data removed]",
      "text/plain": [
       "<Figure size 432x288 with 1 Axes>"
      ]
     },
     "metadata": {
      "needs_background": "light",
      "tags": []
     },
     "output_type": "display_data"
    }
   ],
   "source": [
    "# examine review length distribution\n",
    "plt.plot(np.linspace(0,len(X_train)-1,len(X_train)),lengths)\n",
    "plt.grid()"
   ]
  },
  {
   "cell_type": "code",
   "execution_count": 0,
   "metadata": {
    "colab": {},
    "colab_type": "code",
    "id": "q6ur5OPI5knm"
   },
   "outputs": [],
   "source": [
    "# a tool to pad sequences to the same length (we will denote as 'maxlen'). \n",
    "# If the sequence is too short, it will fill empty spaces with some value (0 by default).\n",
    "\n",
    "from keras.preprocessing.sequence import pad_sequences"
   ]
  },
  {
   "cell_type": "code",
   "execution_count": 0,
   "metadata": {
    "colab": {},
    "colab_type": "code",
    "id": "2EgJ3Qyi8d0D"
   },
   "outputs": [],
   "source": [
    "maxlen = 75\n",
    "\n",
    "X_train_pad = pad_sequences(X_train,maxlen = maxlen,padding = 'post')\n",
    "X_test_pad = pad_sequences(X_test,maxlen = maxlen,padding = 'post')\n"
   ]
  },
  {
   "cell_type": "code",
   "execution_count": 0,
   "metadata": {
    "colab": {
     "base_uri": "https://localhost:8080/",
     "height": 34
    },
    "colab_type": "code",
    "id": "Bg0pTOfD80a0",
    "outputId": "283baff5-2bb3-4d2e-fbb3-17d5136cdec6"
   },
   "outputs": [
    {
     "data": {
      "text/plain": [
       "(25000, 75)"
      ]
     },
     "execution_count": 47,
     "metadata": {
      "tags": []
     },
     "output_type": "execute_result"
    }
   ],
   "source": [
    "X_train_pad.shape"
   ]
  },
  {
   "cell_type": "code",
   "execution_count": 0,
   "metadata": {
    "colab": {},
    "colab_type": "code",
    "id": "M0v-sNNc82Wb"
   },
   "outputs": [],
   "source": [
    "# get the maximum value in X_train_pad so we don't feed unnecessary words to the Embedding layer\n",
    "max_feature = max([max(x) for x in X_train_pad]+[max(x) for x in X_test_pad])"
   ]
  },
  {
   "cell_type": "markdown",
   "metadata": {
    "colab_type": "text",
    "id": "EJFKXK9MKsPU"
   },
   "source": [
    "#### Build a Recurrent neural net model with an Embedding layer"
   ]
  },
  {
   "cell_type": "code",
   "execution_count": 0,
   "metadata": {
    "colab": {},
    "colab_type": "code",
    "id": "1luAOqS3_Oya"
   },
   "outputs": [],
   "source": [
    "K.clear_session()\n",
    "\n",
    "model = Sequential()\n",
    "\n",
    "# the Embedding layer maps integers (word counterparts) to dense vectors of fixed size (128 in this case)\n",
    "model.add(Embedding(max_feature,128))\n",
    "model.add(LSTM(64,dropout = 0.2,recurrent_dropout = 0.2))\n",
    "# the activation function is sigmoid because we get a binary value for a movie review\n",
    "model.add(Dense(1,activation = 'sigmoid'))\n",
    "\n",
    "model.compile(optimizer ='adam',\n",
    "              loss = 'binary_crossentropy',\n",
    "              metrics = ['accuracy'])"
   ]
  },
  {
   "cell_type": "code",
   "execution_count": 0,
   "metadata": {
    "colab": {
     "base_uri": "https://localhost:8080/",
     "height": 275
    },
    "colab_type": "code",
    "id": "vk0anzcHBdiv",
    "outputId": "acaff436-62b6-4932-c250-fe161d2c9ff0"
   },
   "outputs": [
    {
     "name": "stderr",
     "output_type": "stream",
     "text": [
      "/usr/local/lib/python3.6/dist-packages/tensorflow/python/framework/indexed_slices.py:434: UserWarning: Converting sparse IndexedSlices to a dense Tensor of unknown shape. This may consume a large amount of memory.\n",
      "  \"Converting sparse IndexedSlices to a dense Tensor of unknown shape. \"\n"
     ]
    },
    {
     "name": "stdout",
     "output_type": "stream",
     "text": [
      "Train on 17500 samples, validate on 7500 samples\n",
      "Epoch 1/5\n",
      "17500/17500 [==============================] - 82s 5ms/step - loss: 0.4942 - accuracy: 0.7580 - val_loss: 0.3987 - val_accuracy: 0.8253\n",
      "Epoch 2/5\n",
      "17500/17500 [==============================] - 83s 5ms/step - loss: 0.3137 - accuracy: 0.8715 - val_loss: 0.4145 - val_accuracy: 0.8157\n",
      "Epoch 3/5\n",
      "17500/17500 [==============================] - 83s 5ms/step - loss: 0.2296 - accuracy: 0.9106 - val_loss: 0.4373 - val_accuracy: 0.8217\n",
      "Epoch 4/5\n",
      "17500/17500 [==============================] - 83s 5ms/step - loss: 0.1550 - accuracy: 0.9433 - val_loss: 0.5255 - val_accuracy: 0.7989\n",
      "Epoch 5/5\n",
      "17500/17500 [==============================] - 82s 5ms/step - loss: 0.1147 - accuracy: 0.9594 - val_loss: 0.5593 - val_accuracy: 0.8148\n"
     ]
    },
    {
     "data": {
      "text/plain": [
       "<keras.callbacks.callbacks.History at 0x7fa05bcf5b70>"
      ]
     },
     "execution_count": 58,
     "metadata": {
      "tags": []
     },
     "output_type": "execute_result"
    }
   ],
   "source": [
    "# Note: because the model is quite complex, it is advisable to run this code on a cloud with GPU acceleration\n",
    "\n",
    "model.fit(X_train_pad,y_train,\n",
    "          epochs = 5,\n",
    "          validation_split = 0.3,\n",
    "          batch_size = 32)"
   ]
  },
  {
   "cell_type": "code",
   "execution_count": 0,
   "metadata": {
    "colab": {
     "base_uri": "https://localhost:8080/",
     "height": 68
    },
    "colab_type": "code",
    "id": "xKq0PXZObS9w",
    "outputId": "59e07db4-cc98-4e29-ec67-aa33e772ae75"
   },
   "outputs": [
    {
     "name": "stdout",
     "output_type": "stream",
     "text": [
      "25000/25000 [==============================] - 10s 388us/step\n",
      "score =  0.5720979055309295\n",
      "accuracy = 0.8118000030517578\n"
     ]
    }
   ],
   "source": [
    "score,acc = model.evaluate(X_test_pad,y_test)\n",
    "\n",
    "print('score = ',score)\n",
    "print('accuracy = {}'.format(acc))"
   ]
  },
  {
   "cell_type": "code",
   "execution_count": 0,
   "metadata": {
    "colab": {},
    "colab_type": "code",
    "id": "K2hdnoXFMUqq"
   },
   "outputs": [],
   "source": [
    "# Hence, in 5 epochs we have achieved 81% accuracy."
   ]
  }
 ],
 "metadata": {
  "colab": {
   "collapsed_sections": [],
   "name": "Pour GitHub_Ivan_Embedding_SentimentAnalysis.ipynb",
   "provenance": []
  },
  "kernelspec": {
   "display_name": "Python 3",
   "language": "python",
   "name": "python3"
  },
  "language_info": {
   "codemirror_mode": {
    "name": "ipython",
    "version": 3
   },
   "file_extension": ".py",
   "mimetype": "text/x-python",
   "name": "python",
   "nbconvert_exporter": "python",
   "pygments_lexer": "ipython3",
   "version": "3.7.3"
  }
 },
 "nbformat": 4,
 "nbformat_minor": 1
}
