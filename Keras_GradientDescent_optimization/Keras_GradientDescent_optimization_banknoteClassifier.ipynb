{
 "cells": [
  {
   "cell_type": "markdown",
   "metadata": {},
   "source": [
    "#### Import the basis libraries and the dataset"
   ]
  },
  {
   "cell_type": "code",
   "execution_count": 0,
   "metadata": {
    "colab": {},
    "colab_type": "code",
    "id": "dX8rzTbeLmws"
   },
   "outputs": [],
   "source": [
    "import numpy as np\n",
    "import pandas as pd\n",
    "import matplotlib.pyplot as plt\n",
    "import seaborn as sns\n",
    "%matplotlib inline"
   ]
  },
  {
   "cell_type": "code",
   "execution_count": 0,
   "metadata": {
    "colab": {},
    "colab_type": "code",
    "id": "w2qrXd98M1PD"
   },
   "outputs": [],
   "source": [
    "df = pd.read_csv('banknotes.csv')"
   ]
  },
  {
   "cell_type": "code",
   "execution_count": 0,
   "metadata": {
    "colab": {
     "base_uri": "https://localhost:8080/",
     "height": 204
    },
    "colab_type": "code",
    "id": "YIzYxwC_MnHy",
    "outputId": "692a9d28-6932-4637-e010-2516cb4960fc"
   },
   "outputs": [
    {
     "data": {
      "text/html": [
       "<div>\n",
       "<style scoped>\n",
       "    .dataframe tbody tr th:only-of-type {\n",
       "        vertical-align: middle;\n",
       "    }\n",
       "\n",
       "    .dataframe tbody tr th {\n",
       "        vertical-align: top;\n",
       "    }\n",
       "\n",
       "    .dataframe thead th {\n",
       "        text-align: right;\n",
       "    }\n",
       "</style>\n",
       "<table border=\"1\" class=\"dataframe\">\n",
       "  <thead>\n",
       "    <tr style=\"text-align: right;\">\n",
       "      <th></th>\n",
       "      <th>variace</th>\n",
       "      <th>skewness</th>\n",
       "      <th>curtosis</th>\n",
       "      <th>entropy</th>\n",
       "      <th>class</th>\n",
       "    </tr>\n",
       "  </thead>\n",
       "  <tbody>\n",
       "    <tr>\n",
       "      <th>0</th>\n",
       "      <td>3.62160</td>\n",
       "      <td>8.6661</td>\n",
       "      <td>-2.8073</td>\n",
       "      <td>-0.44699</td>\n",
       "      <td>0</td>\n",
       "    </tr>\n",
       "    <tr>\n",
       "      <th>1</th>\n",
       "      <td>4.54590</td>\n",
       "      <td>8.1674</td>\n",
       "      <td>-2.4586</td>\n",
       "      <td>-1.46210</td>\n",
       "      <td>0</td>\n",
       "    </tr>\n",
       "    <tr>\n",
       "      <th>2</th>\n",
       "      <td>3.86600</td>\n",
       "      <td>-2.6383</td>\n",
       "      <td>1.9242</td>\n",
       "      <td>0.10645</td>\n",
       "      <td>0</td>\n",
       "    </tr>\n",
       "    <tr>\n",
       "      <th>3</th>\n",
       "      <td>3.45660</td>\n",
       "      <td>9.5228</td>\n",
       "      <td>-4.0112</td>\n",
       "      <td>-3.59440</td>\n",
       "      <td>0</td>\n",
       "    </tr>\n",
       "    <tr>\n",
       "      <th>4</th>\n",
       "      <td>0.32924</td>\n",
       "      <td>-4.4552</td>\n",
       "      <td>4.5718</td>\n",
       "      <td>-0.98880</td>\n",
       "      <td>0</td>\n",
       "    </tr>\n",
       "  </tbody>\n",
       "</table>\n",
       "</div>"
      ],
      "text/plain": [
       "   variace  skewness  curtosis  entropy  class\n",
       "0  3.62160    8.6661   -2.8073 -0.44699      0\n",
       "1  4.54590    8.1674   -2.4586 -1.46210      0\n",
       "2  3.86600   -2.6383    1.9242  0.10645      0\n",
       "3  3.45660    9.5228   -4.0112 -3.59440      0\n",
       "4  0.32924   -4.4552    4.5718 -0.98880      0"
      ]
     },
     "execution_count": 4,
     "metadata": {
      "tags": []
     },
     "output_type": "execute_result"
    }
   ],
   "source": [
    "df.head()"
   ]
  },
  {
   "cell_type": "markdown",
   "metadata": {
    "colab_type": "text",
    "id": "z62WdKVtnVKE"
   },
   "source": [
    "#### Transform and analyze the data"
   ]
  },
  {
   "cell_type": "code",
   "execution_count": 0,
   "metadata": {
    "colab": {},
    "colab_type": "code",
    "id": "1wlZ4fEzMVAs"
   },
   "outputs": [],
   "source": [
    "# Rescale the data (neural nets prefer input values to lie between 0 and 1)\n",
    "from sklearn.preprocessing import MinMaxScaler"
   ]
  },
  {
   "cell_type": "code",
   "execution_count": 0,
   "metadata": {
    "colab": {},
    "colab_type": "code",
    "id": "v7As0lpkPFOZ"
   },
   "outputs": [],
   "source": [
    "mms = MinMaxScaler()"
   ]
  },
  {
   "cell_type": "code",
   "execution_count": 0,
   "metadata": {
    "colab": {},
    "colab_type": "code",
    "id": "E1CnC9KIPLW3"
   },
   "outputs": [],
   "source": [
    "df1 = pd.DataFrame(mms.fit_transform(df))"
   ]
  },
  {
   "cell_type": "code",
   "execution_count": 0,
   "metadata": {
    "colab": {},
    "colab_type": "code",
    "id": "7tuDVkBmPPnm"
   },
   "outputs": [],
   "source": [
    "df1.columns = df.columns"
   ]
  },
  {
   "cell_type": "code",
   "execution_count": 0,
   "metadata": {
    "colab": {
     "base_uri": "https://localhost:8080/",
     "height": 204
    },
    "colab_type": "code",
    "id": "f-4pPD5fPRFW",
    "outputId": "6bdddb63-7b06-423c-d87d-fd7434681dd3"
   },
   "outputs": [
    {
     "data": {
      "text/html": [
       "<div>\n",
       "<style scoped>\n",
       "    .dataframe tbody tr th:only-of-type {\n",
       "        vertical-align: middle;\n",
       "    }\n",
       "\n",
       "    .dataframe tbody tr th {\n",
       "        vertical-align: top;\n",
       "    }\n",
       "\n",
       "    .dataframe thead th {\n",
       "        text-align: right;\n",
       "    }\n",
       "</style>\n",
       "<table border=\"1\" class=\"dataframe\">\n",
       "  <thead>\n",
       "    <tr style=\"text-align: right;\">\n",
       "      <th></th>\n",
       "      <th>variace</th>\n",
       "      <th>skewness</th>\n",
       "      <th>curtosis</th>\n",
       "      <th>entropy</th>\n",
       "      <th>class</th>\n",
       "    </tr>\n",
       "  </thead>\n",
       "  <tbody>\n",
       "    <tr>\n",
       "      <th>0</th>\n",
       "      <td>0.769004</td>\n",
       "      <td>0.839643</td>\n",
       "      <td>0.106783</td>\n",
       "      <td>0.736628</td>\n",
       "      <td>0.0</td>\n",
       "    </tr>\n",
       "    <tr>\n",
       "      <th>1</th>\n",
       "      <td>0.835659</td>\n",
       "      <td>0.820982</td>\n",
       "      <td>0.121804</td>\n",
       "      <td>0.644326</td>\n",
       "      <td>0.0</td>\n",
       "    </tr>\n",
       "    <tr>\n",
       "      <th>2</th>\n",
       "      <td>0.786629</td>\n",
       "      <td>0.416648</td>\n",
       "      <td>0.310608</td>\n",
       "      <td>0.786951</td>\n",
       "      <td>0.0</td>\n",
       "    </tr>\n",
       "    <tr>\n",
       "      <th>3</th>\n",
       "      <td>0.757105</td>\n",
       "      <td>0.871699</td>\n",
       "      <td>0.054921</td>\n",
       "      <td>0.450440</td>\n",
       "      <td>0.0</td>\n",
       "    </tr>\n",
       "    <tr>\n",
       "      <th>4</th>\n",
       "      <td>0.531578</td>\n",
       "      <td>0.348662</td>\n",
       "      <td>0.424662</td>\n",
       "      <td>0.687362</td>\n",
       "      <td>0.0</td>\n",
       "    </tr>\n",
       "  </tbody>\n",
       "</table>\n",
       "</div>"
      ],
      "text/plain": [
       "    variace  skewness  curtosis   entropy  class\n",
       "0  0.769004  0.839643  0.106783  0.736628    0.0\n",
       "1  0.835659  0.820982  0.121804  0.644326    0.0\n",
       "2  0.786629  0.416648  0.310608  0.786951    0.0\n",
       "3  0.757105  0.871699  0.054921  0.450440    0.0\n",
       "4  0.531578  0.348662  0.424662  0.687362    0.0"
      ]
     },
     "execution_count": 9,
     "metadata": {
      "tags": []
     },
     "output_type": "execute_result"
    }
   ],
   "source": [
    "df1.head()"
   ]
  },
  {
   "cell_type": "code",
   "execution_count": 0,
   "metadata": {
    "colab": {
     "base_uri": "https://localhost:8080/",
     "height": 297
    },
    "colab_type": "code",
    "id": "WadUmcaKPcAr",
    "outputId": "55f4d742-e093-4ff9-d872-8133f91c9d40"
   },
   "outputs": [
    {
     "data": {
      "text/html": [
       "<div>\n",
       "<style scoped>\n",
       "    .dataframe tbody tr th:only-of-type {\n",
       "        vertical-align: middle;\n",
       "    }\n",
       "\n",
       "    .dataframe tbody tr th {\n",
       "        vertical-align: top;\n",
       "    }\n",
       "\n",
       "    .dataframe thead th {\n",
       "        text-align: right;\n",
       "    }\n",
       "</style>\n",
       "<table border=\"1\" class=\"dataframe\">\n",
       "  <thead>\n",
       "    <tr style=\"text-align: right;\">\n",
       "      <th></th>\n",
       "      <th>variace</th>\n",
       "      <th>skewness</th>\n",
       "      <th>curtosis</th>\n",
       "      <th>entropy</th>\n",
       "      <th>class</th>\n",
       "    </tr>\n",
       "  </thead>\n",
       "  <tbody>\n",
       "    <tr>\n",
       "      <th>count</th>\n",
       "      <td>1372.000000</td>\n",
       "      <td>1372.000000</td>\n",
       "      <td>1372.000000</td>\n",
       "      <td>1372.000000</td>\n",
       "      <td>1372.000000</td>\n",
       "    </tr>\n",
       "    <tr>\n",
       "      <th>mean</th>\n",
       "      <td>0.539114</td>\n",
       "      <td>0.587301</td>\n",
       "      <td>0.287924</td>\n",
       "      <td>0.668917</td>\n",
       "      <td>0.444606</td>\n",
       "    </tr>\n",
       "    <tr>\n",
       "      <th>std</th>\n",
       "      <td>0.205003</td>\n",
       "      <td>0.219611</td>\n",
       "      <td>0.185669</td>\n",
       "      <td>0.191041</td>\n",
       "      <td>0.497103</td>\n",
       "    </tr>\n",
       "    <tr>\n",
       "      <th>min</th>\n",
       "      <td>0.000000</td>\n",
       "      <td>0.000000</td>\n",
       "      <td>0.000000</td>\n",
       "      <td>0.000000</td>\n",
       "      <td>0.000000</td>\n",
       "    </tr>\n",
       "    <tr>\n",
       "      <th>25%</th>\n",
       "      <td>0.379977</td>\n",
       "      <td>0.451451</td>\n",
       "      <td>0.159869</td>\n",
       "      <td>0.557821</td>\n",
       "      <td>0.000000</td>\n",
       "    </tr>\n",
       "    <tr>\n",
       "      <th>50%</th>\n",
       "      <td>0.543617</td>\n",
       "      <td>0.602168</td>\n",
       "      <td>0.254280</td>\n",
       "      <td>0.723929</td>\n",
       "      <td>0.000000</td>\n",
       "    </tr>\n",
       "    <tr>\n",
       "      <th>75%</th>\n",
       "      <td>0.711304</td>\n",
       "      <td>0.770363</td>\n",
       "      <td>0.364674</td>\n",
       "      <td>0.813171</td>\n",
       "      <td>1.000000</td>\n",
       "    </tr>\n",
       "    <tr>\n",
       "      <th>max</th>\n",
       "      <td>1.000000</td>\n",
       "      <td>1.000000</td>\n",
       "      <td>1.000000</td>\n",
       "      <td>1.000000</td>\n",
       "      <td>1.000000</td>\n",
       "    </tr>\n",
       "  </tbody>\n",
       "</table>\n",
       "</div>"
      ],
      "text/plain": [
       "           variace     skewness     curtosis      entropy        class\n",
       "count  1372.000000  1372.000000  1372.000000  1372.000000  1372.000000\n",
       "mean      0.539114     0.587301     0.287924     0.668917     0.444606\n",
       "std       0.205003     0.219611     0.185669     0.191041     0.497103\n",
       "min       0.000000     0.000000     0.000000     0.000000     0.000000\n",
       "25%       0.379977     0.451451     0.159869     0.557821     0.000000\n",
       "50%       0.543617     0.602168     0.254280     0.723929     0.000000\n",
       "75%       0.711304     0.770363     0.364674     0.813171     1.000000\n",
       "max       1.000000     1.000000     1.000000     1.000000     1.000000"
      ]
     },
     "execution_count": 10,
     "metadata": {
      "tags": []
     },
     "output_type": "execute_result"
    }
   ],
   "source": [
    "df1.describe()"
   ]
  },
  {
   "cell_type": "code",
   "execution_count": 0,
   "metadata": {
    "colab": {
     "base_uri": "https://localhost:8080/",
     "height": 68
    },
    "colab_type": "code",
    "id": "Vs9dnInJPdzL",
    "outputId": "e867d2b5-0168-4c34-e831-798c83e2222c"
   },
   "outputs": [
    {
     "data": {
      "text/plain": [
       "0.0    762\n",
       "1.0    610\n",
       "Name: class, dtype: int64"
      ]
     },
     "execution_count": 30,
     "metadata": {
      "tags": []
     },
     "output_type": "execute_result"
    }
   ],
   "source": [
    "# see how many banknotes are fake (610 in this case)\n",
    "df1['class'].value_counts()"
   ]
  },
  {
   "cell_type": "code",
   "execution_count": 0,
   "metadata": {
    "colab": {},
    "colab_type": "code",
    "id": "FvJQOrs7Wx0m"
   },
   "outputs": [],
   "source": [
    "# explore how separable the data is, and how non-linear the decision boundaries are\n",
    "sns.pairplot(df1,hue = 'class')"
   ]
  },
  {
   "cell_type": "code",
   "execution_count": 0,
   "metadata": {
    "colab": {},
    "colab_type": "code",
    "id": "bwmzX2SCXfQ-"
   },
   "outputs": [],
   "source": [
    "# divide the data into the training and testing parts\n",
    "from sklearn.model_selection import train_test_split,cross_val_score"
   ]
  },
  {
   "cell_type": "code",
   "execution_count": 0,
   "metadata": {
    "colab": {},
    "colab_type": "code",
    "id": "ECVy_Ec4X-qA"
   },
   "outputs": [],
   "source": [
    "X = df1.drop('class',axis = 1).values\n",
    "y = df1['class'].values"
   ]
  },
  {
   "cell_type": "code",
   "execution_count": 0,
   "metadata": {
    "colab": {},
    "colab_type": "code",
    "id": "3hhUQNbPYICG"
   },
   "outputs": [],
   "source": [
    "X_train, X_test, y_train, y_test = train_test_split(X, y, test_size=0.2, random_state=42)"
   ]
  },
  {
   "cell_type": "code",
   "execution_count": 0,
   "metadata": {
    "colab": {},
    "colab_type": "code",
    "id": "a2eYdjmPYVEQ"
   },
   "outputs": [],
   "source": [
    "# for comparison, build standard machine learning algorithms, such as RFC and support vector classifier \n",
    "from sklearn.ensemble import RandomForestClassifier\n",
    "from sklearn.svm import SVC"
   ]
  },
  {
   "cell_type": "code",
   "execution_count": 0,
   "metadata": {
    "colab": {},
    "colab_type": "code",
    "id": "7tjR1-abYgGs"
   },
   "outputs": [],
   "source": [
    "model = SVC()"
   ]
  },
  {
   "cell_type": "code",
   "execution_count": 0,
   "metadata": {
    "colab": {},
    "colab_type": "code",
    "id": "3zg7zLH-ZSYN"
   },
   "outputs": [],
   "source": [
    "# perform cross validation to see how stable the result is in terms of different data splits \n",
    "cvs = cross_val_score(model,X,y)"
   ]
  },
  {
   "cell_type": "code",
   "execution_count": 0,
   "metadata": {
    "colab": {
     "base_uri": "https://localhost:8080/",
     "height": 34
    },
    "colab_type": "code",
    "id": "oWHNCJAhZgoZ",
    "outputId": "aed369a7-8b62-4ca7-8213-e96145938610"
   },
   "outputs": [
    {
     "data": {
      "text/plain": [
       "array([1., 1., 1., 1., 1.])"
      ]
     },
     "execution_count": 22,
     "metadata": {
      "tags": []
     },
     "output_type": "execute_result"
    }
   ],
   "source": [
    "cvs"
   ]
  },
  {
   "cell_type": "code",
   "execution_count": 0,
   "metadata": {
    "colab": {},
    "colab_type": "code",
    "id": "wzwwZCqxZth1"
   },
   "outputs": [],
   "source": [
    "model.fit(X_train,y_train)"
   ]
  },
  {
   "cell_type": "code",
   "execution_count": 0,
   "metadata": {
    "colab": {},
    "colab_type": "code",
    "id": "kePJAibFZ0Ac"
   },
   "outputs": [],
   "source": [
    "from sklearn.metrics import classification_report"
   ]
  },
  {
   "cell_type": "code",
   "execution_count": 0,
   "metadata": {
    "colab": {
     "base_uri": "https://localhost:8080/",
     "height": 170
    },
    "colab_type": "code",
    "id": "nTy_QzF7Z_Ce",
    "outputId": "2912a0b8-c58f-49fb-8291-5096bb0f46f7"
   },
   "outputs": [
    {
     "name": "stdout",
     "output_type": "stream",
     "text": [
      "              precision    recall  f1-score   support\n",
      "\n",
      "         0.0       1.00      1.00      1.00       148\n",
      "         1.0       1.00      1.00      1.00       127\n",
      "\n",
      "    accuracy                           1.00       275\n",
      "   macro avg       1.00      1.00      1.00       275\n",
      "weighted avg       1.00      1.00      1.00       275\n",
      "\n"
     ]
    }
   ],
   "source": [
    "# as we can see, the performace is perfect for the support vector machine algorithm\n",
    "print(classification_report(y_test,model.predict(X_test)))"
   ]
  },
  {
   "cell_type": "markdown",
   "metadata": {
    "colab_type": "text",
    "id": "T6xbvi6cfRzo"
   },
   "source": [
    "#### Import keras modules"
   ]
  },
  {
   "cell_type": "code",
   "execution_count": 0,
   "metadata": {
    "colab": {},
    "colab_type": "code",
    "id": "3h__xVa2aKna"
   },
   "outputs": [],
   "source": [
    "import keras.backend as K\n",
    "from keras.models import Sequential\n",
    "from keras.layers import Dense, Activation\n",
    "from keras.optimizers import Adam,SGD, RMSprop"
   ]
  },
  {
   "cell_type": "markdown",
   "metadata": {
    "colab_type": "text",
    "id": "NzHROotMiSfN"
   },
   "source": [
    "#### Logistic Regression implementation"
   ]
  },
  {
   "cell_type": "code",
   "execution_count": 0,
   "metadata": {
    "colab": {},
    "colab_type": "code",
    "id": "HI4I1jdJiRn5"
   },
   "outputs": [],
   "source": [
    "K.clear_session()\n",
    "model = Sequential()\n",
    "model.add(Dense(1,input_shape = (4,),activation = 'sigmoid'))\n",
    "model.compile(loss = 'binary_crossentropy',metrics = ['accuracy'],optimizer = 'sgd')"
   ]
  },
  {
   "cell_type": "code",
   "execution_count": 0,
   "metadata": {
    "colab": {},
    "colab_type": "code",
    "id": "kAhdPjACjLIt"
   },
   "outputs": [],
   "source": [
    "history = model.fit(X_train,y_train,epochs = 30)"
   ]
  },
  {
   "cell_type": "code",
   "execution_count": 0,
   "metadata": {
    "colab": {},
    "colab_type": "code",
    "id": "qKxCwSgHjTDV"
   },
   "outputs": [],
   "source": [
    "result = model.evaluate(X_test,y_test)"
   ]
  },
  {
   "cell_type": "code",
   "execution_count": 0,
   "metadata": {
    "colab": {
     "base_uri": "https://localhost:8080/",
     "height": 34
    },
    "colab_type": "code",
    "id": "iuULe-cYjlmW",
    "outputId": "7e271386-3c1a-489a-de31-31017c6d5612"
   },
   "outputs": [
    {
     "data": {
      "text/plain": [
       "[0.588638388893821, 0.7272727266224948]"
      ]
     },
     "execution_count": 61,
     "metadata": {
      "tags": []
     },
     "output_type": "execute_result"
    }
   ],
   "source": [
    "result"
   ]
  },
  {
   "cell_type": "code",
   "execution_count": 0,
   "metadata": {
    "colab": {},
    "colab_type": "code",
    "id": "Xo_DB3kYju8k"
   },
   "outputs": [],
   "source": [
    "historydf = pd.DataFrame(history.history,index = history.epoch)"
   ]
  },
  {
   "cell_type": "code",
   "execution_count": null,
   "metadata": {
    "colab": {
     "base_uri": "https://localhost:8080/",
     "height": 71
    },
    "colab_type": "code",
    "id": "Kf62hvk5e84c",
    "outputId": "966c8ece-82fe-4722-cc73-2a22333534a2"
   },
   "outputs": [],
   "source": [
    "for k in history.history: print(k, ' = ', history.history[k])"
   ]
  },
  {
   "cell_type": "code",
   "execution_count": 0,
   "metadata": {
    "colab": {
     "base_uri": "https://localhost:8080/",
     "height": 298
    },
    "colab_type": "code",
    "id": "G875Jr-9kGzk",
    "outputId": "f4a7f9ca-d9d6-4d2f-c684-6b906c93a18d"
   },
   "outputs": [
    {
     "data": {
      "text/plain": [
       "Text(0.5, 1.0, 'Test accuracy and loss as a function of the number of epochs')"
      ]
     },
     "execution_count": 67,
     "metadata": {
      "tags": []
     },
     "output_type": "execute_result"
    },
    {
     "data": {
      "image/png": "[encoded data removed]",
      "text/plain": [
       "<Figure size 432x288 with 1 Axes>"
      ]
     },
     "metadata": {
      "tags": []
     },
     "output_type": "display_data"
    }
   ],
   "source": [
    "# plot the metrics (loss and accuracy) as functions of the number of epochs (iterations) \n",
    "historydf.plot(ylim=(0.4,0.8))\n",
    "plt.title('Test accuracy and loss as a function of the number of epochs')"
   ]
  },
  {
   "cell_type": "code",
   "execution_count": 0,
   "metadata": {
    "colab": {},
    "colab_type": "code",
    "id": "GG9bSaHbLo-A"
   },
   "outputs": [],
   "source": [
    "# same model but for a different learning rate\n",
    "K.clear_session()\n",
    "model = Sequential()\n",
    "model.add(Dense(1,input_shape=(X.shape[1],),activation='sigmoid'))\n",
    "model.compile(optimizer = SGD(lr = 0.3),loss = 'binary_crossentropy',metrics = ['accuracy'])"
   ]
  },
  {
   "cell_type": "code",
   "execution_count": 0,
   "metadata": {
    "colab": {},
    "colab_type": "code",
    "id": "WKcnfL8-edde"
   },
   "outputs": [],
   "source": [
    "history = model.fit(X_train,y_train,epochs = 30)"
   ]
  },
  {
   "cell_type": "code",
   "execution_count": 0,
   "metadata": {
    "colab": {},
    "colab_type": "code",
    "id": "zsLE1fdlhOQ2"
   },
   "outputs": [],
   "source": [
    "df2 = pd.DataFrame(history.history,index = history.epoch)"
   ]
  },
  {
   "cell_type": "code",
   "execution_count": 0,
   "metadata": {
    "colab": {
     "base_uri": "https://localhost:8080/",
     "height": 204
    },
    "colab_type": "code",
    "id": "6P_jVqHWlOdn",
    "outputId": "dc00ee55-d1a3-4be3-eb1b-dc1fe515c57d"
   },
   "outputs": [
    {
     "data": {
      "text/html": [
       "<div>\n",
       "<style scoped>\n",
       "    .dataframe tbody tr th:only-of-type {\n",
       "        vertical-align: middle;\n",
       "    }\n",
       "\n",
       "    .dataframe tbody tr th {\n",
       "        vertical-align: top;\n",
       "    }\n",
       "\n",
       "    .dataframe thead th {\n",
       "        text-align: right;\n",
       "    }\n",
       "</style>\n",
       "<table border=\"1\" class=\"dataframe\">\n",
       "  <thead>\n",
       "    <tr style=\"text-align: right;\">\n",
       "      <th></th>\n",
       "      <th>loss</th>\n",
       "      <th>acc</th>\n",
       "    </tr>\n",
       "  </thead>\n",
       "  <tbody>\n",
       "    <tr>\n",
       "      <th>0</th>\n",
       "      <td>0.632527</td>\n",
       "      <td>0.644485</td>\n",
       "    </tr>\n",
       "    <tr>\n",
       "      <th>1</th>\n",
       "      <td>0.579130</td>\n",
       "      <td>0.711030</td>\n",
       "    </tr>\n",
       "    <tr>\n",
       "      <th>2</th>\n",
       "      <td>0.540536</td>\n",
       "      <td>0.815861</td>\n",
       "    </tr>\n",
       "    <tr>\n",
       "      <th>3</th>\n",
       "      <td>0.512270</td>\n",
       "      <td>0.825889</td>\n",
       "    </tr>\n",
       "    <tr>\n",
       "      <th>4</th>\n",
       "      <td>0.487310</td>\n",
       "      <td>0.851413</td>\n",
       "    </tr>\n",
       "  </tbody>\n",
       "</table>\n",
       "</div>"
      ],
      "text/plain": [
       "       loss       acc\n",
       "0  0.632527  0.644485\n",
       "1  0.579130  0.711030\n",
       "2  0.540536  0.815861\n",
       "3  0.512270  0.825889\n",
       "4  0.487310  0.851413"
      ]
     },
     "execution_count": 72,
     "metadata": {
      "tags": []
     },
     "output_type": "execute_result"
    }
   ],
   "source": [
    "df2.head()"
   ]
  },
  {
   "cell_type": "code",
   "execution_count": 0,
   "metadata": {
    "colab": {
     "base_uri": "https://localhost:8080/",
     "height": 286
    },
    "colab_type": "code",
    "id": "4UxUH7oalWQp",
    "outputId": "9235dbf4-0284-4249-a3c8-2cb92d096141"
   },
   "outputs": [
    {
     "data": {
      "text/plain": [
       "<matplotlib.axes._subplots.AxesSubplot at 0x7fa7a574f1d0>"
      ]
     },
     "execution_count": 74,
     "metadata": {
      "tags": []
     },
     "output_type": "execute_result"
    },
    {
     "data": {
      "image/png": "[encoded data removed]",
      "text/plain": [
       "<Figure size 432x288 with 1 Axes>"
      ]
     },
     "metadata": {
      "tags": []
     },
     "output_type": "display_data"
    }
   ],
   "source": [
    "# as we can see from the plot below, the accuracy of the model has significantly improved\n",
    "df2.plot()"
   ]
  },
  {
   "cell_type": "code",
   "execution_count": 0,
   "metadata": {
    "colab": {},
    "colab_type": "code",
    "id": "ToIbCynOBSrb"
   },
   "outputs": [],
   "source": [
    "# iterate over different learning rates to find the best one\n",
    "dflist = []\n",
    "learning_rate = [0.01,0.2,0.3,0.4,0.5]\n",
    "for lr in learning_rate:\n",
    "  K.clear_session()\n",
    "  model = Sequential()\n",
    "  model.add(Dense(1,input_shape = (4,),activation='sigmoid'))\n",
    "  model.compile(optimizer = SGD(lr = lr),loss = 'binary_crossentropy',metrics=['accuracy'])\n",
    "  h = model.fit(X_train,y_train,batch_size = 16,epochs = 10)\n",
    "  dflist.append(pd.DataFrame(h.history,index = h.epoch))\n",
    "  "
   ]
  },
  {
   "cell_type": "code",
   "execution_count": 0,
   "metadata": {
    "colab": {},
    "colab_type": "code",
    "id": "VsoiHCVHFEr9"
   },
   "outputs": [],
   "source": [
    "# concatenate the dataframes in dflist into one dataframe\n",
    "historydf = pd.concat(dflist,axis = 1)"
   ]
  },
  {
   "cell_type": "code",
   "execution_count": 0,
   "metadata": {
    "colab": {},
    "colab_type": "code",
    "id": "6HohWOFVGN6o"
   },
   "outputs": [],
   "source": [
    "metrics_reported = dflist[0].columns"
   ]
  },
  {
   "cell_type": "code",
   "execution_count": 0,
   "metadata": {
    "colab": {},
    "colab_type": "code",
    "id": "sEEg9rK1HTde"
   },
   "outputs": [],
   "source": [
    "# create a multi-index dataframe\n",
    "idx = pd.MultiIndex.from_product([learning_rate,metrics_reported],names = ['lr','metric'])\n",
    "historydf.columns = idx"
   ]
  },
  {
   "cell_type": "code",
   "execution_count": 0,
   "metadata": {
    "colab": {
     "base_uri": "https://localhost:8080/",
     "height": 235
    },
    "colab_type": "code",
    "id": "bEue7nh9KH_V",
    "outputId": "116fa917-91ac-4594-f9d3-ed2d9ff810f2"
   },
   "outputs": [
    {
     "data": {
      "text/html": [
       "<div>\n",
       "<style scoped>\n",
       "    .dataframe tbody tr th:only-of-type {\n",
       "        vertical-align: middle;\n",
       "    }\n",
       "\n",
       "    .dataframe tbody tr th {\n",
       "        vertical-align: top;\n",
       "    }\n",
       "\n",
       "    .dataframe thead tr th {\n",
       "        text-align: left;\n",
       "    }\n",
       "</style>\n",
       "<table border=\"1\" class=\"dataframe\">\n",
       "  <thead>\n",
       "    <tr>\n",
       "      <th>lr</th>\n",
       "      <th colspan=\"2\" halign=\"left\">0.01</th>\n",
       "      <th colspan=\"2\" halign=\"left\">0.20</th>\n",
       "      <th colspan=\"2\" halign=\"left\">0.30</th>\n",
       "      <th colspan=\"2\" halign=\"left\">0.40</th>\n",
       "      <th colspan=\"2\" halign=\"left\">0.50</th>\n",
       "    </tr>\n",
       "    <tr>\n",
       "      <th>metric</th>\n",
       "      <th>loss</th>\n",
       "      <th>acc</th>\n",
       "      <th>loss</th>\n",
       "      <th>acc</th>\n",
       "      <th>loss</th>\n",
       "      <th>acc</th>\n",
       "      <th>loss</th>\n",
       "      <th>acc</th>\n",
       "      <th>loss</th>\n",
       "      <th>acc</th>\n",
       "    </tr>\n",
       "  </thead>\n",
       "  <tbody>\n",
       "    <tr>\n",
       "      <th>0</th>\n",
       "      <td>0.685610</td>\n",
       "      <td>0.559708</td>\n",
       "      <td>0.567606</td>\n",
       "      <td>0.730173</td>\n",
       "      <td>0.674807</td>\n",
       "      <td>0.589790</td>\n",
       "      <td>0.581023</td>\n",
       "      <td>0.762990</td>\n",
       "      <td>0.599964</td>\n",
       "      <td>0.670921</td>\n",
       "    </tr>\n",
       "    <tr>\n",
       "      <th>1</th>\n",
       "      <td>0.668854</td>\n",
       "      <td>0.559708</td>\n",
       "      <td>0.532500</td>\n",
       "      <td>0.760255</td>\n",
       "      <td>0.578965</td>\n",
       "      <td>0.715588</td>\n",
       "      <td>0.499345</td>\n",
       "      <td>0.832270</td>\n",
       "      <td>0.514417</td>\n",
       "      <td>0.782133</td>\n",
       "    </tr>\n",
       "    <tr>\n",
       "      <th>2</th>\n",
       "      <td>0.658047</td>\n",
       "      <td>0.561531</td>\n",
       "      <td>0.504142</td>\n",
       "      <td>0.795807</td>\n",
       "      <td>0.525784</td>\n",
       "      <td>0.780310</td>\n",
       "      <td>0.450263</td>\n",
       "      <td>0.867821</td>\n",
       "      <td>0.458201</td>\n",
       "      <td>0.828624</td>\n",
       "    </tr>\n",
       "    <tr>\n",
       "      <th>3</th>\n",
       "      <td>0.650761</td>\n",
       "      <td>0.569736</td>\n",
       "      <td>0.480664</td>\n",
       "      <td>0.811304</td>\n",
       "      <td>0.486794</td>\n",
       "      <td>0.819508</td>\n",
       "      <td>0.413802</td>\n",
       "      <td>0.882407</td>\n",
       "      <td>0.416450</td>\n",
       "      <td>0.863263</td>\n",
       "    </tr>\n",
       "    <tr>\n",
       "      <th>4</th>\n",
       "      <td>0.645207</td>\n",
       "      <td>0.573382</td>\n",
       "      <td>0.458747</td>\n",
       "      <td>0.834093</td>\n",
       "      <td>0.457999</td>\n",
       "      <td>0.832270</td>\n",
       "      <td>0.386195</td>\n",
       "      <td>0.896992</td>\n",
       "      <td>0.386927</td>\n",
       "      <td>0.877849</td>\n",
       "    </tr>\n",
       "  </tbody>\n",
       "</table>\n",
       "</div>"
      ],
      "text/plain": [
       "lr          0.01                0.20  ...      0.40      0.50          \n",
       "metric      loss       acc      loss  ...       acc      loss       acc\n",
       "0       0.685610  0.559708  0.567606  ...  0.762990  0.599964  0.670921\n",
       "1       0.668854  0.559708  0.532500  ...  0.832270  0.514417  0.782133\n",
       "2       0.658047  0.561531  0.504142  ...  0.867821  0.458201  0.828624\n",
       "3       0.650761  0.569736  0.480664  ...  0.882407  0.416450  0.863263\n",
       "4       0.645207  0.573382  0.458747  ...  0.896992  0.386927  0.877849\n",
       "\n",
       "[5 rows x 10 columns]"
      ]
     },
     "execution_count": 120,
     "metadata": {
      "tags": []
     },
     "output_type": "execute_result"
    }
   ],
   "source": [
    "historydf.head()"
   ]
  },
  {
   "cell_type": "code",
   "execution_count": 0,
   "metadata": {
    "colab": {
     "base_uri": "https://localhost:8080/",
     "height": 331
    },
    "colab_type": "code",
    "id": "Yuc7y7iNKKNn",
    "outputId": "411dec36-bf19-498d-8bf5-ab48ac3de40e"
   },
   "outputs": [
    {
     "data": {
      "text/plain": [
       "<Figure size 864x576 with 0 Axes>"
      ]
     },
     "execution_count": 134,
     "metadata": {
      "tags": []
     },
     "output_type": "execute_result"
    },
    {
     "data": {
      "image/png": "[encoded data removed]",
      "text/plain": [
       "<Figure size 432x288 with 2 Axes>"
      ]
     },
     "metadata": {
      "tags": []
     },
     "output_type": "display_data"
    },
    {
     "data": {
      "text/plain": [
       "<Figure size 864x576 with 0 Axes>"
      ]
     },
     "metadata": {
      "tags": []
     },
     "output_type": "display_data"
    }
   ],
   "source": [
    "# plot loss and accuracy for different learning rates\n",
    "ax = plt.subplot(211)\n",
    "historydf.xs('loss',axis = 1,level = 'metric').plot(ylim = (0.25,0.75),ax = ax)\n",
    "\n",
    "\n",
    "ax = plt.subplot(212)\n",
    "historydf.xs('acc',axis =1,level = 'metric').plot(ylim = (0.5,1),ax = ax)\n",
    "\n",
    "plt.xlabel('Epochs')\n",
    "plt.tight_layout()\n",
    "\n",
    "plt.figure(figsize = (12,8))"
   ]
  },
  {
   "cell_type": "code",
   "execution_count": 0,
   "metadata": {
    "colab": {},
    "colab_type": "code",
    "id": "4LPf-Tmzbt2-"
   },
   "outputs": [],
   "source": [
    "# try different values of the batch size parameter\n",
    "dflist = []\n",
    "batch_sizes = [16,32,64,128]\n",
    "for bs in batch_sizes:\n",
    "  K.clear_session()\n",
    "  model = Sequential()\n",
    "  model.add(Dense(1,input_shape=(4,),activation='sigmoid'))\n",
    "  model.compile(optimizer=SGD(lr = 0.5),loss='binary_crossentropy',metrics =['accuracy'])\n",
    "  h = model.fit(X_train,y_train,batch_size=bs,epochs = 10)\n",
    "  dflist.append(pd.DataFrame(h.history,index = h.epoch))\n",
    "  \n",
    "  \n",
    "  "
   ]
  },
  {
   "cell_type": "code",
   "execution_count": 0,
   "metadata": {
    "colab": {},
    "colab_type": "code",
    "id": "EkLuzryVc_1J"
   },
   "outputs": [],
   "source": [
    "dfhistory = pd.concat(dflist,axis = 1)"
   ]
  },
  {
   "cell_type": "code",
   "execution_count": 0,
   "metadata": {
    "colab": {},
    "colab_type": "code",
    "id": "x9y_woXZdJhX"
   },
   "outputs": [],
   "source": [
    "metrics_reported = dflist[0].columns"
   ]
  },
  {
   "cell_type": "code",
   "execution_count": 0,
   "metadata": {
    "colab": {},
    "colab_type": "code",
    "id": "2JhccOlKdTWU"
   },
   "outputs": [],
   "source": [
    "idx = pd.MultiIndex.from_product([batch_sizes,metrics_reported],names = ['batch_size','metrics'])\n",
    "dfhistory.columns = idx"
   ]
  },
  {
   "cell_type": "code",
   "execution_count": 0,
   "metadata": {
    "colab": {
     "base_uri": "https://localhost:8080/",
     "height": 235
    },
    "colab_type": "code",
    "id": "RmaW_IHxdxI1",
    "outputId": "44459e9f-0a03-40e2-9485-4f2b6e0e8652"
   },
   "outputs": [
    {
     "data": {
      "text/html": [
       "<div>\n",
       "<style scoped>\n",
       "    .dataframe tbody tr th:only-of-type {\n",
       "        vertical-align: middle;\n",
       "    }\n",
       "\n",
       "    .dataframe tbody tr th {\n",
       "        vertical-align: top;\n",
       "    }\n",
       "\n",
       "    .dataframe thead tr th {\n",
       "        text-align: left;\n",
       "    }\n",
       "</style>\n",
       "<table border=\"1\" class=\"dataframe\">\n",
       "  <thead>\n",
       "    <tr>\n",
       "      <th>batch_size</th>\n",
       "      <th colspan=\"2\" halign=\"left\">16</th>\n",
       "      <th colspan=\"2\" halign=\"left\">32</th>\n",
       "      <th colspan=\"2\" halign=\"left\">64</th>\n",
       "      <th colspan=\"2\" halign=\"left\">128</th>\n",
       "    </tr>\n",
       "    <tr>\n",
       "      <th>metrics</th>\n",
       "      <th>loss</th>\n",
       "      <th>acc</th>\n",
       "      <th>loss</th>\n",
       "      <th>acc</th>\n",
       "      <th>loss</th>\n",
       "      <th>acc</th>\n",
       "      <th>loss</th>\n",
       "      <th>acc</th>\n",
       "    </tr>\n",
       "  </thead>\n",
       "  <tbody>\n",
       "    <tr>\n",
       "      <th>0</th>\n",
       "      <td>0.634010</td>\n",
       "      <td>0.637192</td>\n",
       "      <td>0.604380</td>\n",
       "      <td>0.656335</td>\n",
       "      <td>0.674764</td>\n",
       "      <td>0.560620</td>\n",
       "      <td>0.632486</td>\n",
       "      <td>0.692799</td>\n",
       "    </tr>\n",
       "    <tr>\n",
       "      <th>1</th>\n",
       "      <td>0.506451</td>\n",
       "      <td>0.820419</td>\n",
       "      <td>0.522357</td>\n",
       "      <td>0.837739</td>\n",
       "      <td>0.624275</td>\n",
       "      <td>0.644485</td>\n",
       "      <td>0.609893</td>\n",
       "      <td>0.680948</td>\n",
       "    </tr>\n",
       "    <tr>\n",
       "      <th>2</th>\n",
       "      <td>0.445621</td>\n",
       "      <td>0.859617</td>\n",
       "      <td>0.482797</td>\n",
       "      <td>0.829535</td>\n",
       "      <td>0.585470</td>\n",
       "      <td>0.680948</td>\n",
       "      <td>0.590151</td>\n",
       "      <td>0.746582</td>\n",
       "    </tr>\n",
       "    <tr>\n",
       "      <th>3</th>\n",
       "      <td>0.405004</td>\n",
       "      <td>0.878760</td>\n",
       "      <td>0.451134</td>\n",
       "      <td>0.854148</td>\n",
       "      <td>0.554829</td>\n",
       "      <td>0.758432</td>\n",
       "      <td>0.572510</td>\n",
       "      <td>0.787603</td>\n",
       "    </tr>\n",
       "    <tr>\n",
       "      <th>4</th>\n",
       "      <td>0.374363</td>\n",
       "      <td>0.896080</td>\n",
       "      <td>0.428986</td>\n",
       "      <td>0.862352</td>\n",
       "      <td>0.529658</td>\n",
       "      <td>0.793984</td>\n",
       "      <td>0.556775</td>\n",
       "      <td>0.814038</td>\n",
       "    </tr>\n",
       "  </tbody>\n",
       "</table>\n",
       "</div>"
      ],
      "text/plain": [
       "batch_size       16                  32   ...       64        128          \n",
       "metrics         loss       acc      loss  ...       acc      loss       acc\n",
       "0           0.634010  0.637192  0.604380  ...  0.560620  0.632486  0.692799\n",
       "1           0.506451  0.820419  0.522357  ...  0.644485  0.609893  0.680948\n",
       "2           0.445621  0.859617  0.482797  ...  0.680948  0.590151  0.746582\n",
       "3           0.405004  0.878760  0.451134  ...  0.758432  0.572510  0.787603\n",
       "4           0.374363  0.896080  0.428986  ...  0.793984  0.556775  0.814038\n",
       "\n",
       "[5 rows x 8 columns]"
      ]
     },
     "execution_count": 143,
     "metadata": {
      "tags": []
     },
     "output_type": "execute_result"
    }
   ],
   "source": [
    "dfhistory.head()"
   ]
  },
  {
   "cell_type": "code",
   "execution_count": 0,
   "metadata": {
    "colab": {},
    "colab_type": "code",
    "id": "IDBkddDrdypk"
   },
   "outputs": [],
   "source": [
    "# plot loss and accuracy as functions of the number of iterations for different batch sizes\n",
    "ax = plt.subplot(211)\n",
    "dfhistory.xs(key='loss',axis = 1, level = 'metrics').plot(ax = ax)\n",
    "\n",
    "ax = plt.subplot(212)\n",
    "dfhistory.xs(key = 'acc',axis = 1, level = 'metrics').plot(ax = ax)\n",
    "plt.title('Loss')\n",
    "\n",
    "plt.xlabel('Epoch')\n",
    "plt.tight_layout()"
   ]
  },
  {
   "cell_type": "code",
   "execution_count": 0,
   "metadata": {
    "colab": {},
    "colab_type": "code",
    "id": "Xc0QAA6YlVSZ"
   },
   "outputs": [],
   "source": [
    "# try a more complex neural net architecture\n",
    "K.clear_session()\n",
    "model = Sequential()\n",
    "model.add(Dense(2,input_shape=(4,),activation ='relu'))\n",
    "model.add(Dense(1,activation = 'sigmoid'))\n",
    "model.compile(optimizer = RMSprop(lr=0.01),metrics = ['accuracy'],loss = 'binary_crossentropy')\n",
    "\n",
    "h = model.fit(X_train,y_train,validation_split = 0.3,batch_size = 16,epochs = 20)\n",
    "result = model.evaluate(X_test,y_test)"
   ]
  },
  {
   "cell_type": "code",
   "execution_count": 0,
   "metadata": {
    "colab": {
     "base_uri": "https://localhost:8080/",
     "height": 34
    },
    "colab_type": "code",
    "id": "ArC27mg7ywKb",
    "outputId": "c895a8b7-503e-48ce-89d6-a861b724780f"
   },
   "outputs": [
    {
     "data": {
      "text/plain": [
       "[0.12306774681264704, 0.9636363636363636]"
      ]
     },
     "execution_count": 56,
     "metadata": {
      "tags": []
     },
     "output_type": "execute_result"
    }
   ],
   "source": [
    "result"
   ]
  },
  {
   "cell_type": "code",
   "execution_count": 0,
   "metadata": {
    "colab": {
     "base_uri": "https://localhost:8080/",
     "height": 221
    },
    "colab_type": "code",
    "id": "gIAiUDSWzYlv",
    "outputId": "55e2c274-87f1-4e78-fd5e-d02a44a77faa"
   },
   "outputs": [
    {
     "name": "stdout",
     "output_type": "stream",
     "text": [
      "Model: \"sequential_4\"\n",
      "_________________________________________________________________\n",
      "Layer (type)                 Output Shape              Param #   \n",
      "=================================================================\n",
      "dense_7 (Dense)              (None, 2)                 10        \n",
      "_________________________________________________________________\n",
      "dense_8 (Dense)              (None, 1)                 3         \n",
      "=================================================================\n",
      "Total params: 13\n",
      "Trainable params: 13\n",
      "Non-trainable params: 0\n",
      "_________________________________________________________________\n"
     ]
    }
   ],
   "source": [
    "# the summary() method allows to understand the neural net architecture more clearly\n",
    "model.summary()"
   ]
  },
  {
   "cell_type": "code",
   "execution_count": 0,
   "metadata": {
    "colab": {},
    "colab_type": "code",
    "id": "XLT3Yv640NSv"
   },
   "outputs": [],
   "source": [
    "# using the model.layer attribute, define the input and output of the first layer\n",
    "inp = model.layers[0].input\n",
    "out = model.layers[0].output"
   ]
  },
  {
   "cell_type": "code",
   "execution_count": 0,
   "metadata": {
    "colab": {},
    "colab_type": "code",
    "id": "NKRfBAky0WEX"
   },
   "outputs": [],
   "source": [
    "# investigate the input and output\n",
    "inp.shape"
   ]
  },
  {
   "cell_type": "code",
   "execution_count": 0,
   "metadata": {
    "colab": {},
    "colab_type": "code",
    "id": "is9H3Ig60gOh"
   },
   "outputs": [],
   "source": [
    "inp"
   ]
  },
  {
   "cell_type": "code",
   "execution_count": 0,
   "metadata": {
    "colab": {},
    "colab_type": "code",
    "id": "KirFXbhW0kt1"
   },
   "outputs": [],
   "source": [
    "out"
   ]
  },
  {
   "cell_type": "code",
   "execution_count": 0,
   "metadata": {
    "colab": {},
    "colab_type": "code",
    "id": "sGxu3lTn0sS7"
   },
   "outputs": [],
   "source": [
    "features_function = K.function([inp],[out])"
   ]
  },
  {
   "cell_type": "code",
   "execution_count": 0,
   "metadata": {
    "colab": {
     "base_uri": "https://localhost:8080/",
     "height": 34
    },
    "colab_type": "code",
    "id": "DUYc-L_71GuX",
    "outputId": "44a20a94-48cb-4a2c-c985-be7a1b0bd333"
   },
   "outputs": [
    {
     "data": {
      "text/plain": [
       "<keras.backend.tensorflow_backend.Function at 0x7f61e02fea58>"
      ]
     },
     "execution_count": 63,
     "metadata": {
      "tags": []
     },
     "output_type": "execute_result"
    }
   ],
   "source": [
    "features_function"
   ]
  },
  {
   "cell_type": "code",
   "execution_count": 0,
   "metadata": {
    "colab": {},
    "colab_type": "code",
    "id": "1cnmk_vO1Mld"
   },
   "outputs": [],
   "source": [
    "features = features_function([X_test])[0]"
   ]
  },
  {
   "cell_type": "code",
   "execution_count": 0,
   "metadata": {
    "colab": {
     "base_uri": "https://localhost:8080/",
     "height": 286
    },
    "colab_type": "code",
    "id": "jZZ4rzDa21Dg",
    "outputId": "2b36b2da-14d3-4da3-f500-880502de4643"
   },
   "outputs": [
    {
     "data": {
      "text/plain": [
       "<matplotlib.collections.PathCollection at 0x7f61a5c54470>"
      ]
     },
     "execution_count": 65,
     "metadata": {
      "tags": []
     },
     "output_type": "execute_result"
    },
    {
     "data": {
      "image/png": "[encoded data removed]",
      "text/plain": [
       "<Figure size 432x288 with 1 Axes>"
      ]
     },
     "metadata": {
      "tags": []
     },
     "output_type": "display_data"
    }
   ],
   "source": [
    "# plot the features (output of the first layer vs input of the first layer). Mark the classes with different colors.\n",
    "plt.scatter(features[:,0],features[:,1],c=y_test,cmap = 'coolwarm')"
   ]
  },
  {
   "cell_type": "code",
   "execution_count": 0,
   "metadata": {
    "colab": {},
    "colab_type": "code",
    "id": "kmwL3wcgZnNp"
   },
   "outputs": [],
   "source": [
    "# increase the complexity of the architecture\n",
    "K.clear_session()\n",
    "\n",
    "model = Sequential()\n",
    "model.add(Dense(3, input_shape=(4,), activation='relu'))\n",
    "model.add(Dense(2, activation='relu'))\n",
    "model.add(Dense(1, activation='sigmoid'))\n",
    "model.compile(loss='binary_crossentropy',\n",
    "              optimizer=RMSprop(lr=0.01),\n",
    "              metrics=['accuracy'])"
   ]
  },
  {
   "cell_type": "code",
   "execution_count": 0,
   "metadata": {
    "colab": {},
    "colab_type": "code",
    "id": "VhaoxX7BfImn"
   },
   "outputs": [],
   "source": [
    "# Investigate the relationship between the input of the first layer and the output of the second layer \n",
    "inp = model.layers[0].input\n",
    "out = model.layers[1].output\n",
    "features_function = K.function([inp], [out])\n",
    "\n",
    "# Visualize and explore how the neural net separates the two classes with each new iteration\n",
    "\n",
    "plt.figure(figsize=(15,10))\n",
    "\n",
    "for i in range(1, 26):\n",
    "    plt.subplot(5, 5, i)\n",
    "    h = model.fit(X_train, y_train, batch_size=16, epochs=1, verbose=0)\n",
    "    test_accuracy = model.evaluate(X_test, y_test)[1]\n",
    "    features = features_function([X_test])[0]\n",
    "    plt.scatter(features[:, 0], features[:, 1], c=y_test, cmap='coolwarm')\n",
    "    plt.xlim(-0.5, 3.5)\n",
    "    plt.ylim(-0.5, 4.0)\n",
    "    plt.title('Epoch: {}, Test Acc: {:3.1f} %'.format(i, test_accuracy * 100.0))\n",
    "\n",
    "plt.tight_layout()"
   ]
  },
  {
   "cell_type": "code",
   "execution_count": 0,
   "metadata": {
    "colab": {},
    "colab_type": "code",
    "id": "B_Dvqqpzk4rh"
   },
   "outputs": [],
   "source": []
  }
 ],
 "metadata": {
  "colab": {
   "collapsed_sections": [],
   "name": "Ivan_GradientDescent_5_1.ipynb",
   "provenance": []
  },
  "kernelspec": {
   "display_name": "Python 3",
   "language": "python",
   "name": "python3"
  },
  "language_info": {
   "codemirror_mode": {
    "name": "ipython",
    "version": 3
   },
   "file_extension": ".py",
   "mimetype": "text/x-python",
   "name": "python",
   "nbconvert_exporter": "python",
   "pygments_lexer": "ipython3",
   "version": "3.7.3"
  }
 },
 "nbformat": 4,
 "nbformat_minor": 1
}
