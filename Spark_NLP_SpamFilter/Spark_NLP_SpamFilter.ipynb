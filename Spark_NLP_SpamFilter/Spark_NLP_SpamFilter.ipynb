{
 "cells": [
  {
   "cell_type": "markdown",
   "metadata": {},
   "source": [
    "### Import and instantiate SparkSession"
   ]
  },
  {
   "cell_type": "code",
   "execution_count": 1,
   "metadata": {},
   "outputs": [],
   "source": [
    "from pyspark.sql import SparkSession"
   ]
  },
  {
   "cell_type": "code",
   "execution_count": 2,
   "metadata": {},
   "outputs": [],
   "source": [
    "spark = SparkSession.builder.appName('nlp spam filter').getOrCreate()"
   ]
  },
  {
   "cell_type": "markdown",
   "metadata": {},
   "source": [
    "### Import and analyze a dataset of SMS messages with ham/spam labels. The data is courtesy of UCI Repository: https://archive.ics.uci.edu/ml/datasets/SMS+Spam+Collection"
   ]
  },
  {
   "cell_type": "code",
   "execution_count": 3,
   "metadata": {},
   "outputs": [],
   "source": [
    "data = spark.read.csv('smsspamcollection/SMSSpamCollection',inferSchema = True,sep = '\\t')"
   ]
  },
  {
   "cell_type": "code",
   "execution_count": 4,
   "metadata": {},
   "outputs": [
    {
     "name": "stdout",
     "output_type": "stream",
     "text": [
      "+----+--------------------+\n",
      "| _c0|                 _c1|\n",
      "+----+--------------------+\n",
      "| ham|Go until jurong p...|\n",
      "| ham|Ok lar... Joking ...|\n",
      "|spam|Free entry in 2 a...|\n",
      "| ham|U dun say so earl...|\n",
      "| ham|Nah I don't think...|\n",
      "|spam|FreeMsg Hey there...|\n",
      "| ham|Even my brother i...|\n",
      "| ham|As per your reque...|\n",
      "|spam|WINNER!! As a val...|\n",
      "|spam|Had your mobile 1...|\n",
      "| ham|I'm gonna be home...|\n",
      "|spam|SIX chances to wi...|\n",
      "|spam|URGENT! You have ...|\n",
      "| ham|I've been searchi...|\n",
      "| ham|I HAVE A DATE ON ...|\n",
      "|spam|XXXMobileMovieClu...|\n",
      "| ham|Oh k...i'm watchi...|\n",
      "| ham|Eh u remember how...|\n",
      "| ham|Fine if thats th...|\n",
      "|spam|England v Macedon...|\n",
      "+----+--------------------+\n",
      "only showing top 20 rows\n",
      "\n"
     ]
    }
   ],
   "source": [
    "data.show()"
   ]
  },
  {
   "cell_type": "code",
   "execution_count": 5,
   "metadata": {},
   "outputs": [],
   "source": [
    "#rename columns\n",
    "data = data.withColumnRenamed('_c0','class').withColumnRenamed('_c1','text')"
   ]
  },
  {
   "cell_type": "code",
   "execution_count": null,
   "metadata": {},
   "outputs": [],
   "source": [
    "data.show()"
   ]
  },
  {
   "cell_type": "code",
   "execution_count": 7,
   "metadata": {},
   "outputs": [
    {
     "name": "stdout",
     "output_type": "stream",
     "text": [
      "+-------+-----+--------------------+\n",
      "|summary|class|                text|\n",
      "+-------+-----+--------------------+\n",
      "|  count| 5574|                5574|\n",
      "|   mean| null|               645.0|\n",
      "| stddev| null|                 NaN|\n",
      "|    min|  ham| &lt;#&gt;  in mc...|\n",
      "|    max| spam|… we r stayin her...|\n",
      "+-------+-----+--------------------+\n",
      "\n"
     ]
    }
   ],
   "source": [
    "data.describe().show()"
   ]
  },
  {
   "cell_type": "code",
   "execution_count": 8,
   "metadata": {},
   "outputs": [],
   "source": [
    "#create a SQL-like object you can subsequently apply SQL commands to\n",
    "data.createOrReplaceTempView('spam')"
   ]
  },
  {
   "cell_type": "code",
   "execution_count": 9,
   "metadata": {},
   "outputs": [
    {
     "name": "stdout",
     "output_type": "stream",
     "text": [
      "+-----+------------+\n",
      "|class|count(class)|\n",
      "+-----+------------+\n",
      "|  ham|        4827|\n",
      "| spam|         747|\n",
      "+-----+------------+\n",
      "\n"
     ]
    }
   ],
   "source": [
    "spark.sql('SELECT class,COUNT(class) FROM spam GROUP BY class').show()"
   ]
  },
  {
   "cell_type": "code",
   "execution_count": 10,
   "metadata": {},
   "outputs": [],
   "source": [
    "from pyspark.sql.functions import length"
   ]
  },
  {
   "cell_type": "code",
   "execution_count": 11,
   "metadata": {},
   "outputs": [],
   "source": [
    "# add the length column (in terms of words)\n",
    "data1 = data.withColumn('length',length(data['text']))"
   ]
  },
  {
   "cell_type": "code",
   "execution_count": null,
   "metadata": {},
   "outputs": [],
   "source": [
    "data1.show()"
   ]
  },
  {
   "cell_type": "code",
   "execution_count": 13,
   "metadata": {},
   "outputs": [
    {
     "data": {
      "text/plain": [
       "29"
      ]
     },
     "execution_count": 13,
     "metadata": {},
     "output_type": "execute_result"
    }
   ],
   "source": [
    "# check manually if the length function works correctly\n",
    "len(data1.head(2)[1][1])"
   ]
  },
  {
   "cell_type": "code",
   "execution_count": 14,
   "metadata": {},
   "outputs": [],
   "source": [
    "data1.createOrReplaceTempView('ham')"
   ]
  },
  {
   "cell_type": "code",
   "execution_count": 15,
   "metadata": {},
   "outputs": [
    {
     "name": "stdout",
     "output_type": "stream",
     "text": [
      "+-----+-----------------+\n",
      "|class|      avg(length)|\n",
      "+-----+-----------------+\n",
      "|  ham|71.45431945307645|\n",
      "| spam|138.6706827309237|\n",
      "+-----+-----------------+\n",
      "\n"
     ]
    }
   ],
   "source": [
    "# it is useful to show that there is a clear correlation between the class and the length of a message\n",
    "spark.sql('SELECT class,AVG(length) FROM ham GROUP BY class').show()"
   ]
  },
  {
   "cell_type": "code",
   "execution_count": 16,
   "metadata": {},
   "outputs": [
    {
     "name": "stdout",
     "output_type": "stream",
     "text": [
      "+-----+-----------------+\n",
      "|class|      avg(length)|\n",
      "+-----+-----------------+\n",
      "|  ham|71.45431945307645|\n",
      "| spam|138.6706827309237|\n",
      "+-----+-----------------+\n",
      "\n"
     ]
    }
   ],
   "source": [
    "# conduct the same as above but using the Spark DataFrame tool. Check if the result is the same as using the SQL route.\n",
    "from pyspark.sql.functions import corr,avg\n",
    "data1.groupBy('class').avg('length').show()"
   ]
  },
  {
   "cell_type": "markdown",
   "metadata": {},
   "source": [
    "### Feature transformations needed to be done on text data before machine learning algorithms can be applied "
   ]
  },
  {
   "cell_type": "code",
   "execution_count": 18,
   "metadata": {},
   "outputs": [],
   "source": [
    "from pyspark.ml.feature import StringIndexer,Tokenizer,CountVectorizer,IDF,StopWordsRemover"
   ]
  },
  {
   "cell_type": "code",
   "execution_count": 19,
   "metadata": {},
   "outputs": [],
   "source": [
    "#convert a categorical variable \"class\" into a numerical variable \"class_indexer\"\n",
    "data2 = StringIndexer(inputCol='class',outputCol='class_indexer').fit(data1).transform(data1)"
   ]
  },
  {
   "cell_type": "code",
   "execution_count": null,
   "metadata": {},
   "outputs": [],
   "source": [
    "data2.show()"
   ]
  },
  {
   "cell_type": "code",
   "execution_count": 21,
   "metadata": {},
   "outputs": [
    {
     "data": {
      "text/plain": [
       "0.3826863816970354"
      ]
     },
     "execution_count": 21,
     "metadata": {},
     "output_type": "execute_result"
    }
   ],
   "source": [
    "data2.corr('class_indexer','length')"
   ]
  },
  {
   "cell_type": "code",
   "execution_count": 26,
   "metadata": {},
   "outputs": [],
   "source": [
    "from pyspark.ml.pipeline import Pipeline"
   ]
  },
  {
   "cell_type": "code",
   "execution_count": 28,
   "metadata": {},
   "outputs": [
    {
     "data": {
      "text/plain": [
       "['class', 'text', 'length', 'class_indexer']"
      ]
     },
     "execution_count": 28,
     "metadata": {},
     "output_type": "execute_result"
    }
   ],
   "source": [
    "data2.columns"
   ]
  },
  {
   "cell_type": "code",
   "execution_count": null,
   "metadata": {},
   "outputs": [],
   "source": [
    "# converts a message (consisting of sentences) into a list of words (tokens)\n",
    "token = Tokenizer(inputCol = 'text',outputCol='tokenized')"
   ]
  },
  {
   "cell_type": "code",
   "execution_count": 46,
   "metadata": {},
   "outputs": [],
   "source": [
    "# Stop words are words which should be excluded from the input, typically because the words appear frequently and don’t carry\n",
    "# as much meaning (\"a, an, the, so, and, etc.)\".\n",
    "cleaned = StopWordsRemover(inputCol = 'tokenized',outputCol = 'cleaned')"
   ]
  },
  {
   "cell_type": "code",
   "execution_count": 51,
   "metadata": {},
   "outputs": [],
   "source": [
    "# CountVectorizer aims to help convert a collection of text documents to vectors of token counts. \n",
    "# CountVectorizer produces sparse representations for the documents over the vocabulary, which can then be passed to machine\n",
    "# learning algorithms like LDA.\n",
    "vectorized = CountVectorizer(inputCol = 'cleaned',outputCol = 'vectorized')"
   ]
  },
  {
   "cell_type": "code",
   "execution_count": 52,
   "metadata": {},
   "outputs": [],
   "source": [
    "# idf (inverse document frequency) is a useful quantity that tells us about a relative importance (i.e. frequency) of a given\n",
    "# term (word, token) for the entire corpus of documents in question (the collection of SMS in our case).\n",
    "#Therefore, IDF should be included as a useful feature for a machine learning algorithm.\n",
    "idf = IDF(inputCol='vectorized',outputCol='idf')"
   ]
  },
  {
   "cell_type": "code",
   "execution_count": 31,
   "metadata": {},
   "outputs": [],
   "source": [
    "from pyspark.ml.feature import VectorAssembler"
   ]
  },
  {
   "cell_type": "code",
   "execution_count": 78,
   "metadata": {},
   "outputs": [],
   "source": [
    "# a VectorAssembler object collects all the useful features into one vector of features. \n",
    "# This is a peculiarity of the Spark MLlib framework. \n",
    "assembler = VectorAssembler(inputCols = ['idf','length'],outputCol = 'features')"
   ]
  },
  {
   "cell_type": "markdown",
   "metadata": {},
   "source": [
    "### Building a pipeline for the NaiveBayes classifier and evaluating the model's accuracy"
   ]
  },
  {
   "cell_type": "code",
   "execution_count": 37,
   "metadata": {},
   "outputs": [],
   "source": [
    "from pyspark.ml.classification import NaiveBayes"
   ]
  },
  {
   "cell_type": "code",
   "execution_count": 79,
   "metadata": {},
   "outputs": [],
   "source": [
    "nb = NaiveBayes(featuresCol ='features',labelCol = 'class_indexer')"
   ]
  },
  {
   "cell_type": "code",
   "execution_count": 80,
   "metadata": {},
   "outputs": [],
   "source": [
    "pipeline = Pipeline(stages=[token,cleaned,vectorized,idf,assembler])"
   ]
  },
  {
   "cell_type": "code",
   "execution_count": 81,
   "metadata": {},
   "outputs": [],
   "source": [
    "df = pipeline.fit(data2)"
   ]
  },
  {
   "cell_type": "code",
   "execution_count": 82,
   "metadata": {},
   "outputs": [],
   "source": [
    "df1 = df.transform(data2)"
   ]
  },
  {
   "cell_type": "code",
   "execution_count": 83,
   "metadata": {},
   "outputs": [
    {
     "name": "stdout",
     "output_type": "stream",
     "text": [
      "+-------------+--------------------+\n",
      "|class_indexer|            features|\n",
      "+-------------+--------------------+\n",
      "|          0.0|(13424,[7,11,31,6...|\n",
      "|          0.0|(13424,[0,24,297,...|\n",
      "|          1.0|(13424,[2,13,19,3...|\n",
      "|          0.0|(13424,[0,70,80,1...|\n",
      "|          0.0|(13424,[36,134,31...|\n",
      "|          1.0|(13424,[10,60,139...|\n",
      "|          0.0|(13424,[10,53,103...|\n",
      "|          0.0|(13424,[125,184,4...|\n",
      "|          1.0|(13424,[1,47,118,...|\n",
      "|          1.0|(13424,[0,1,13,27...|\n",
      "|          0.0|(13424,[18,43,120...|\n",
      "|          1.0|(13424,[8,17,37,8...|\n",
      "|          1.0|(13424,[13,30,47,...|\n",
      "|          0.0|(13424,[39,96,217...|\n",
      "|          0.0|(13424,[552,1697,...|\n",
      "|          1.0|(13424,[30,109,11...|\n",
      "|          0.0|(13424,[82,214,47...|\n",
      "|          0.0|(13424,[0,2,49,13...|\n",
      "|          0.0|(13424,[0,74,105,...|\n",
      "|          1.0|(13424,[4,30,33,5...|\n",
      "+-------------+--------------------+\n",
      "only showing top 20 rows\n",
      "\n"
     ]
    }
   ],
   "source": [
    "df1.select('class_indexer','features').show()"
   ]
  },
  {
   "cell_type": "code",
   "execution_count": 84,
   "metadata": {},
   "outputs": [],
   "source": [
    "# split the data into the train and test subsets\n",
    "train,test = df1.randomSplit([0.7,0.3])"
   ]
  },
  {
   "cell_type": "code",
   "execution_count": 85,
   "metadata": {},
   "outputs": [],
   "source": [
    "model = nb.fit(train)"
   ]
  },
  {
   "cell_type": "code",
   "execution_count": 86,
   "metadata": {},
   "outputs": [],
   "source": [
    "result = model.transform(test)"
   ]
  },
  {
   "cell_type": "code",
   "execution_count": 87,
   "metadata": {
    "scrolled": true
   },
   "outputs": [
    {
     "name": "stdout",
     "output_type": "stream",
     "text": [
      "+--------------------+--------------------+--------------------+----------+\n",
      "|            features|       rawPrediction|         probability|prediction|\n",
      "+--------------------+--------------------+--------------------+----------+\n",
      "|(13424,[3,6,5140,...|[-279.16326202225...|[1.0,1.5786930706...|       0.0|\n",
      "|(13424,[3,6,41,20...|[-297.03334810841...|[1.0,3.5401904427...|       0.0|\n",
      "|(13424,[0,3,14,18...|[-1239.8079459947...|[1.0,6.2235721106...|       0.0|\n",
      "|(13424,[0,78,220,...|[-1050.0202298242...|[0.99999999999999...|       0.0|\n",
      "|(13424,[3,6,291,6...|[-324.86645760154...|[1.0,2.9902261203...|       0.0|\n",
      "|(13424,[9,116,259...|[-1935.8222760773...|[1.18783812716468...|       1.0|\n",
      "|(13424,[120,195,4...|[-307.69748725648...|[0.99999999935737...|       0.0|\n",
      "|(13424,[5,67,75,2...|[-1165.6962394347...|[1.0,1.0241768454...|       0.0|\n",
      "|(13424,[0,1,3,9,1...|[-571.78290606225...|[1.0,4.5390397988...|       0.0|\n",
      "|(13424,[1,43,53,2...|[-213.11886300366...|[0.99999999999944...|       0.0|\n",
      "|(13424,[3,4,6,7,9...|[-1174.4719370002...|[1.0,1.7352405605...|       0.0|\n",
      "|(13424,[2,29,135,...|[-530.78177786359...|[1.0,2.5246287557...|       0.0|\n",
      "|(13424,[165,1238,...|[-404.86614276642...|[0.99999999999998...|       0.0|\n",
      "|(13424,[8,2580,27...|[-508.16179906717...|[0.00312197683791...|       1.0|\n",
      "|(13424,[11401,134...|[-104.42930655793...|[0.00172101543329...|       1.0|\n",
      "|(13424,[18,28,34,...|[-745.00979605457...|[0.99999978511795...|       0.0|\n",
      "|(13424,[485,568,8...|[-317.63839571589...|[0.99999999982733...|       0.0|\n",
      "|(13424,[198,568,1...|[-210.61444988726...|[0.99999999912992...|       0.0|\n",
      "|(13424,[10,160,38...|[-564.38443982184...|[1.0,7.2134365661...|       0.0|\n",
      "|(13424,[4,10,143,...|[-1079.1478426291...|[1.0,1.4730775454...|       0.0|\n",
      "+--------------------+--------------------+--------------------+----------+\n",
      "only showing top 20 rows\n",
      "\n"
     ]
    }
   ],
   "source": [
    "# the column \"probability\" contains vectors of probablities for class 0 and class 1. \n",
    "# the column \"prediction\" assigns the datapoint (SMS) to the class with the higher probability.\n",
    "result.select(result.columns[-4:]).show()"
   ]
  },
  {
   "cell_type": "code",
   "execution_count": 73,
   "metadata": {},
   "outputs": [],
   "source": [
    "from pyspark.ml.evaluation import MulticlassClassificationEvaluator"
   ]
  },
  {
   "cell_type": "code",
   "execution_count": 88,
   "metadata": {},
   "outputs": [],
   "source": [
    "mcce = MulticlassClassificationEvaluator(predictionCol='prediction',labelCol='class_indexer',metricName = 'accuracy')"
   ]
  },
  {
   "cell_type": "markdown",
   "metadata": {},
   "source": [
    "#### The accuracy of the model"
   ]
  },
  {
   "cell_type": "code",
   "execution_count": 89,
   "metadata": {},
   "outputs": [
    {
     "data": {
      "text/plain": [
       "0.9130691898285038"
      ]
     },
     "execution_count": 89,
     "metadata": {},
     "output_type": "execute_result"
    }
   ],
   "source": [
    "mcce.evaluate(result)"
   ]
  }
 ],
 "metadata": {
  "kernelspec": {
   "display_name": "Python 3",
   "language": "python",
   "name": "python3"
  },
  "language_info": {
   "codemirror_mode": {
    "name": "ipython",
    "version": 3
   },
   "file_extension": ".py",
   "mimetype": "text/x-python",
   "name": "python",
   "nbconvert_exporter": "python",
   "pygments_lexer": "ipython3",
   "version": "3.7.3"
  }
 },
 "nbformat": 4,
 "nbformat_minor": 2
}
